{
 "cells": [
  {
   "cell_type": "markdown",
   "source": [
    "## Functions in Python\n",
    "\n",
    "##### Functions are a convenient way to divide your code into useful blocks, allowing us to order our code, make it more readable, reuse it and save some time. Also functions are a key way to define interfaces so programmers can share their code.Functions in Python are defined using the block keyword \"def\", followed with the function's name as the block's name."
   ],
   "metadata": {
    "collapsed": false
   },
   "id": "4aa06ad91ed2d2"
  },
  {
   "cell_type": "code",
   "outputs": [],
   "source": [
    "# Example of a function\n",
    "\n",
    "def my_function():\n",
    "    print(\"Hello From My Function!\")"
   ],
   "metadata": {
    "collapsed": false,
    "ExecuteTime": {
     "end_time": "2024-01-24T10:07:35.344237906Z",
     "start_time": "2024-01-24T10:07:35.294808706Z"
    }
   },
   "id": "eed89daa99263484",
   "execution_count": 4
  },
  {
   "cell_type": "code",
   "outputs": [
    {
     "name": "stdout",
     "output_type": "stream",
     "text": [
      "Hello From My Function!\n"
     ]
    }
   ],
   "source": [
    "# Calling a function\n",
    "my_function()\n",
    "# here the function is called and it prints the statement \"Hello From My Function!\"."
   ],
   "metadata": {
    "collapsed": false,
    "ExecuteTime": {
     "end_time": "2024-01-24T10:07:35.453987542Z",
     "start_time": "2024-01-24T10:07:35.354991462Z"
    }
   },
   "id": "56bc42cb0430a307",
   "execution_count": 5
  },
  {
   "cell_type": "markdown",
   "source": [
    "### Different types of functions\n",
    "#### 1. Functions that take arguments\n",
    "#### 2. Functions that return a value\n",
    "#### 3. Functions that take arguments and return a value\n"
   ],
   "metadata": {
    "collapsed": false
   },
   "id": "a90ea636944623e2"
  },
  {
   "cell_type": "code",
   "outputs": [],
   "source": [
    "# Example of a function that takes an argument\n",
    "def my_function_with_args(username, greeting):\n",
    "    print(\"Hello, %s , From My Function!, I wish you %s\"%(username, greeting))\n",
    "    "
   ],
   "metadata": {
    "collapsed": false,
    "ExecuteTime": {
     "end_time": "2024-01-24T10:07:35.579329307Z",
     "start_time": "2024-01-24T10:07:35.487373158Z"
    }
   },
   "id": "e6a7c708ee2bfefe",
   "execution_count": 6
  },
  {
   "cell_type": "code",
   "outputs": [
    {
     "name": "stdout",
     "output_type": "stream",
     "text": [
      "Hello, John Doe , From My Function!, I wish you a great year!\n"
     ]
    }
   ],
   "source": [
    "# Calling a function with arguments\n",
    "my_function_with_args(\"John Doe\", \"a great year!\")"
   ],
   "metadata": {
    "collapsed": false,
    "ExecuteTime": {
     "end_time": "2024-01-24T10:07:35.673779748Z",
     "start_time": "2024-01-24T10:07:35.575952880Z"
    }
   },
   "id": "b282a1053afd1923",
   "execution_count": 7
  },
  {
   "cell_type": "code",
   "outputs": [],
   "source": [
    "# Example of a function that returns a value and also takes arguments.\n",
    "def sum_two_numbers(a, b):\n",
    "    return a + b"
   ],
   "metadata": {
    "collapsed": false,
    "ExecuteTime": {
     "end_time": "2024-01-24T10:09:27.296615780Z",
     "start_time": "2024-01-24T10:09:27.249005005Z"
    }
   },
   "id": "80d88c0ab7be33ee",
   "execution_count": 8
  },
  {
   "cell_type": "code",
   "outputs": [
    {
     "data": {
      "text/plain": "42"
     },
     "execution_count": 9,
     "metadata": {},
     "output_type": "execute_result"
    }
   ],
   "source": [
    "# calling of a function that returns a value\n",
    "a = int(input(\"First number\"))\n",
    "b= int(input(\"Second number\"))\n",
    "sum_two_numbers(a,b)"
   ],
   "metadata": {
    "collapsed": false,
    "ExecuteTime": {
     "end_time": "2024-01-24T10:09:32.767622193Z",
     "start_time": "2024-01-24T10:09:29.443708967Z"
    }
   },
   "id": "c95b55de4344ca2a",
   "execution_count": 9
  },
  {
   "cell_type": "markdown",
   "source": [
    "## Exercise\n"
   ],
   "metadata": {
    "collapsed": false
   },
   "id": "809021eaa546e1c8"
  },
  {
   "cell_type": "code",
   "outputs": [],
   "source": [
    "#  Function to return nth number of fibonacci series"
   ],
   "metadata": {
    "collapsed": false
   },
   "id": "c35c620620d23aa"
  },
  {
   "cell_type": "code",
   "outputs": [],
   "source": [
    "def fibo(a):\n",
    "    if a==0:\n",
    "        return 0\n",
    "    elif a==1:\n",
    "        return 1\n",
    "    else:\n",
    "        return fibo(a-1)+ fibo(a-2)"
   ],
   "metadata": {
    "collapsed": false,
    "ExecuteTime": {
     "end_time": "2024-01-24T10:13:42.534393969Z",
     "start_time": "2024-01-24T10:13:42.491855244Z"
    }
   },
   "id": "58b33bbf9e4851c9",
   "execution_count": 10
  },
  {
   "cell_type": "code",
   "outputs": [
    {
     "name": "stdout",
     "output_type": "stream",
     "text": [
      "5\n"
     ]
    }
   ],
   "source": [
    "n = int(input(\"Enter number\"))\n",
    "ans = fibo(n)\n",
    "print(ans)"
   ],
   "metadata": {
    "collapsed": false,
    "ExecuteTime": {
     "end_time": "2024-01-24T10:14:39.019189765Z",
     "start_time": "2024-01-24T10:14:37.682633168Z"
    }
   },
   "id": "c1d699d48fd6c25b",
   "execution_count": 13
  },
  {
   "cell_type": "code",
   "outputs": [],
   "source": [
    "# Program for armstrong number"
   ],
   "metadata": {
    "collapsed": false
   },
   "id": "40471af3c8cc3295"
  },
  {
   "cell_type": "code",
   "outputs": [],
   "source": [
    "def armstrong(a):\n",
    "    sum = 0\n",
    "    temp = a\n",
    "    while temp >0:\n",
    "        last = temp%10\n",
    "        sum += last**3\n",
    "        temp = temp//10\n",
    "    if sum ==a:\n",
    "        print(\"Armstrong number\")\n",
    "    else:\n",
    "        print(\"Not an armstrong number\")"
   ],
   "metadata": {
    "collapsed": false,
    "ExecuteTime": {
     "end_time": "2024-01-24T10:19:01.402087171Z",
     "start_time": "2024-01-24T10:19:01.357840753Z"
    }
   },
   "id": "488eb3e8ab8abb5",
   "execution_count": 14
  },
  {
   "cell_type": "code",
   "outputs": [
    {
     "name": "stdout",
     "output_type": "stream",
     "text": [
      "Not an armstrong number\n"
     ]
    }
   ],
   "source": [
    "n = int(input(\"Enter number\"))\n",
    "armstrong(n)"
   ],
   "metadata": {
    "collapsed": false,
    "ExecuteTime": {
     "end_time": "2024-01-24T10:19:23.722949087Z",
     "start_time": "2024-01-24T10:19:22.155622924Z"
    }
   },
   "id": "95b0407024a8eeeb",
   "execution_count": 17
  },
  {
   "cell_type": "code",
   "outputs": [
    {
     "name": "stdout",
     "output_type": "stream",
     "text": [
      "120\n"
     ]
    }
   ],
   "source": [
    "def fact(a):\n",
    "    mul = 1\n",
    "    for i in range(1,n+1):\n",
    "        mul *= i\n",
    "    print(mul)\n",
    "\n",
    "n= int(input(\"Enter number\"))\n",
    "fact(n)"
   ],
   "metadata": {
    "collapsed": false,
    "ExecuteTime": {
     "end_time": "2024-01-24T10:23:26.496806715Z",
     "start_time": "2024-01-24T10:23:23.343106039Z"
    }
   },
   "id": "dbbcf2eee1689e8",
   "execution_count": 19
  },
  {
   "cell_type": "markdown",
   "source": [
    "### The function defination can be done in one cell and function calling in other. Both can be done in  same cell also."
   ],
   "metadata": {
    "collapsed": false
   },
   "id": "ea49ddfd84518537"
  }
 ],
 "metadata": {
  "kernelspec": {
   "display_name": "Python 3",
   "language": "python",
   "name": "python3"
  },
  "language_info": {
   "codemirror_mode": {
    "name": "ipython",
    "version": 2
   },
   "file_extension": ".py",
   "mimetype": "text/x-python",
   "name": "python",
   "nbconvert_exporter": "python",
   "pygments_lexer": "ipython2",
   "version": "2.7.6"
  }
 },
 "nbformat": 4,
 "nbformat_minor": 5
}
