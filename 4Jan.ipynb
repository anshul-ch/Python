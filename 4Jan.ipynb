{
 "cells": [
  {
   "cell_type": "markdown",
   "source": [
    "## Relational Operators\n",
    "##### 1. Equal:  ==\n",
    "##### 2. Not Equal:  != \n",
    "##### 3. Greater than:  >\n",
    "##### 4. Less than:  <\n",
    "##### 5. Greater than or equal to:  >=\n",
    "##### 6. Less than or equal to:  <=\n",
    "##### Always used to make comparisons between values.\n",
    "##### Note: The result of these relational operators is always a boolean value (True or False)."
   ],
   "metadata": {
    "collapsed": false
   },
   "id": "b455f93e79af8d5a"
  },
  {
   "cell_type": "code",
   "outputs": [],
   "source": [
    "a  = 10\n",
    "b = 20\n",
    "print(a == b)\n",
    "print(a != b)\n",
    "print(a > b)\n",
    "print(a < b)\n",
    "print(a >= b)\n",
    "print(a <= b)\n",
    "print(type(a == b))"
   ],
   "metadata": {
    "collapsed": true
   },
   "id": "initial_id",
   "execution_count": null
  },
  {
   "cell_type": "markdown",
   "source": [
    "## Logical Operators\n",
    "##### 1. and\n",
    "##### 2. or\n",
    "##### 3. not\n",
    "##### Used to combine conditional statements.\n",
    "##### Note: The result of these logical operators is always a boolean value (True or False).\n"
   ],
   "metadata": {
    "collapsed": false
   },
   "id": "96fdcffb8b32e222"
  },
  {
   "cell_type": "code",
   "outputs": [],
   "source": [
    "a = 10\n",
    "b = 20\n",
    "print(a and b)\n",
    "print(a or b)\n",
    "print(not a)\n",
    "print(a>10 and b<20)\n",
    "\n"
   ],
   "metadata": {
    "collapsed": false
   },
   "id": "992069a3b3ca80c8",
   "execution_count": null
  },
  {
   "cell_type": "markdown",
   "source": [
    "## Conditional Statements\n",
    "##### 1. if\n",
    "##### 2. if-else\n",
    "##### 3. if-elif-else\n",
    "##### Used to execute a block of code based on a condition.\n",
    "##### Note: The block of code is executed only if the condition is True.\n"
   ],
   "metadata": {
    "collapsed": false
   },
   "id": "aedc1cf01cea16f4"
  },
  {
   "cell_type": "code",
   "outputs": [],
   "source": [
    "a = True\n",
    "if a:\n",
    "    print(\"a is True\")\n",
    "else:\n",
    "    print(\"a is False\")"
   ],
   "metadata": {
    "collapsed": false
   },
   "id": "bf2be9e19e254664",
   "execution_count": null
  },
  {
   "cell_type": "code",
   "outputs": [],
   "source": [
    "n = int(input(\"Enter a number: \"))\n",
    "is_even = (n%2 ==0)            # returns true or false based on the condition and store in is_even.\n",
    "if is_even:\n",
    "    print(\"Even\")\n",
    "else:\n",
    "    print(\"Odd\")"
   ],
   "metadata": {
    "collapsed": false
   },
   "id": "ed4fda461365cc47",
   "execution_count": null
  },
  {
   "cell_type": "code",
   "outputs": [],
   "source": [
    "n1 = int(input(\"Enter a number: \"))\n",
    "n2 = int(input(\"Enter second number: \"))\n",
    "n3 = int(input(\"Enter third number: \"))\n",
    "if n1 >= n2 and n1 >= n3:\n",
    "    print(\"n1 is greater\", n1)\n",
    "elif n2>= n3 and n2>= n1:\n",
    "    print(\"n2 is greater: \", n2)\n",
    "else:\n",
    "    print(\"n3 is greater: \", n3)"
   ],
   "metadata": {
    "collapsed": false
   },
   "id": "1e260508ddd64931",
   "execution_count": null
  },
  {
   "cell_type": "markdown",
   "source": [
    "## Loops\n",
    "##### 1. for loop\n",
    "##### 2. while loop\n",
    "##### Used to execute a block of code multiple times.\n",
    "##### Note: The block of code is executed only if the condition is True.\n"
   ],
   "metadata": {
    "collapsed": false
   },
   "id": "5cc349e0c377cd4f"
  },
  {
   "cell_type": "markdown",
   "source": [
    "## While Loop\n",
    "##### Used to execute a block of code multiple times until a condition is satisfied.\n",
    "##### Note: The block of code is executed only if the condition is True.\n"
   ],
   "metadata": {
    "collapsed": false
   },
   "id": "e5ab632b5e45a2ca"
  },
  {
   "cell_type": "code",
   "outputs": [],
   "source": [
    "n = int(input(\"Enter a number: \"))\n",
    "count =0\n",
    "while count <= 10:\n",
    "    print(n)\n",
    "    count -= 1"
   ],
   "metadata": {
    "collapsed": false,
    "is_executing": true
   },
   "id": "25f6dc0fdea53347",
   "execution_count": null
  },
  {
   "cell_type": "code",
   "outputs": [
    {
     "name": "stdout",
     "output_type": "stream",
     "text": [
      "Not Prime\n"
     ]
    }
   ],
   "source": [
    "n = int(input(\"Enter a number: \"))\n",
    "i = 2\n",
    "flag = False\n",
    "while i < n:\n",
    "    if n % i ==0:\n",
    "        flag = True\n",
    "    i += 1\n",
    "if flag:\n",
    "    print(\"Not Prime\")\n",
    "else:\n",
    "    print(\"Prime\")"
   ],
   "metadata": {
    "collapsed": false,
    "ExecuteTime": {
     "end_time": "2024-01-10T12:34:21.750589549Z",
     "start_time": "2024-01-10T12:34:17.923415121Z"
    }
   },
   "id": "5a14f8b01fda0a7f",
   "execution_count": 1
  }
 ],
 "metadata": {
  "kernelspec": {
   "display_name": "Python 3",
   "language": "python",
   "name": "python3"
  },
  "language_info": {
   "codemirror_mode": {
    "name": "ipython",
    "version": 2
   },
   "file_extension": ".py",
   "mimetype": "text/x-python",
   "name": "python",
   "nbconvert_exporter": "python",
   "pygments_lexer": "ipython2",
   "version": "2.7.6"
  }
 },
 "nbformat": 4,
 "nbformat_minor": 5
}
