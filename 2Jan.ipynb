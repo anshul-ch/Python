{
 "cells": [
  {
   "cell_type": "markdown",
   "source": [
    "## Arithmetic Opeators"
   ],
   "metadata": {
    "collapsed": false
   },
   "id": "43f4ba6fd453fca"
  },
  {
   "cell_type": "code",
   "outputs": [
    {
     "name": "stdout",
     "output_type": "stream",
     "text": [
      "Hello\n",
      "This is my first Jupiter Notebook\n"
     ]
    }
   ],
   "source": [
    "print(\"Hello\")\n",
    "print(\"This is my first Jupiter Notebook\")"
   ],
   "metadata": {
    "collapsed": true,
    "ExecuteTime": {
     "end_time": "2024-01-04T03:50:56.179191318Z",
     "start_time": "2024-01-04T03:50:56.139885768Z"
    }
   },
   "id": "initial_id",
   "execution_count": 2
  },
  {
   "cell_type": "markdown",
   "source": [
    "#### In Python instead of actually storing the value of the variable, it stores the reference to the value. This is called a pointer(in other languages). So we don't have things like long, int, float, double, etc. We just have numbers. The type of the variable is determined by the value it points to. This is called dynamic typing.\n",
    "\n",
    "#### In Jupyter notebook each cell is independent of each other. So if we define a variable in one cell and try to access it in another cell then it will give error. So we have to run the cell in which we have defined the variable first and then we can access it in another cell.\n"
   ],
   "metadata": {
    "collapsed": false
   },
   "id": "9b6ce0859a19e86"
  },
  {
   "cell_type": "markdown",
   "source": [
    "#### In Python / gives floating point division and // gives integer division\n",
    "#### It will follow BODMAS rule but if multiplication and division are there then it will follow left to right rule. Same for addition and subtraction.\n"
   ],
   "metadata": {
    "collapsed": false
   },
   "id": "771bcf4c41b1162a"
  },
  {
   "cell_type": "code",
   "outputs": [
    {
     "name": "stdout",
     "output_type": "stream",
     "text": [
      "30\n",
      "-10\n",
      "200\n",
      "0.5\n",
      "100000000000000000000\n",
      "10\n"
     ]
    }
   ],
   "source": [
    "a = 10\n",
    "b = 20\n",
    "print(a+b)\n",
    "print(a-b)\n",
    "print(a*b)\n",
    "print(a/b)\n",
    "print(a**b)               #  gives exponent a^b.\n",
    "print(a%b)"
   ],
   "metadata": {
    "collapsed": false,
    "ExecuteTime": {
     "end_time": "2024-01-04T03:50:56.356937549Z",
     "start_time": "2024-01-04T03:50:56.187536926Z"
    }
   },
   "id": "bfcb7d00cb670c62",
   "execution_count": 3
  },
  {
   "cell_type": "markdown",
   "source": [
    "# Taking User Input\n",
    "\n",
    "#### For taking input we use input() function. It stores the input in string format."
   ],
   "metadata": {
    "collapsed": false
   },
   "id": "e51184bb2f94b20d"
  },
  {
   "cell_type": "code",
   "outputs": [
    {
     "name": "stdout",
     "output_type": "stream",
     "text": [
      "<class 'str'>\n",
      "<class 'str'>\n",
      "1212\n"
     ]
    }
   ],
   "source": [
    "a = input()           # take user input and store it in a variable.\n",
    "b = input()\n",
    "print(type(a))\n",
    "print(type(b))\n",
    "s = a+b\n",
    "print(s)"
   ],
   "metadata": {
    "collapsed": false,
    "ExecuteTime": {
     "end_time": "2024-01-04T03:51:00.190916478Z",
     "start_time": "2024-01-04T03:50:56.283532158Z"
    }
   },
   "id": "a5a783db60a28ff",
   "execution_count": 4
  },
  {
   "cell_type": "markdown",
   "source": [
    "#### Typecasting (to convert one data type to another)"
   ],
   "metadata": {
    "collapsed": false
   },
   "id": "a735c839a19f533"
  },
  {
   "cell_type": "code",
   "outputs": [
    {
     "name": "stdout",
     "output_type": "stream",
     "text": [
      "<class 'int'>\n",
      "12\n"
     ]
    }
   ],
   "source": [
    "# we use int to convert the input into integer.\n",
    "a = int(input(\"Enter a number\"))\n",
    "print(type(a))\n",
    "print(a)"
   ],
   "metadata": {
    "collapsed": false,
    "ExecuteTime": {
     "end_time": "2024-01-04T03:51:01.513524917Z",
     "start_time": "2024-01-04T03:51:00.156683106Z"
    }
   },
   "id": "4e28d6add1e69d4c",
   "execution_count": 5
  },
  {
   "cell_type": "markdown",
   "source": [
    "#### In int it will take the integer part of the float number.\n",
    "#### Similarly for float we use float() function."
   ],
   "metadata": {
    "collapsed": false
   },
   "id": "90760f89519cf222"
  }
 ],
 "metadata": {
  "kernelspec": {
   "display_name": "Python 3",
   "language": "python",
   "name": "python3"
  },
  "language_info": {
   "codemirror_mode": {
    "name": "ipython",
    "version": 2
   },
   "file_extension": ".py",
   "mimetype": "text/x-python",
   "name": "python",
   "nbconvert_exporter": "python",
   "pygments_lexer": "ipython2",
   "version": "2.7.6"
  }
 },
 "nbformat": 4,
 "nbformat_minor": 5
}
