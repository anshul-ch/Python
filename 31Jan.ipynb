{
 "cells": [
  {
   "cell_type": "code",
   "outputs": [],
   "source": [
    "###########################################################################################################\n",
    "######################################## ARRAYS AND LISTS ###################################################\n",
    "\n",
    "# Arrays are used to store multiple values in one single variable:\n",
    "# Similar type of values can be stored in an array.\n",
    "# Arrays are created using array() method from array module.\n",
    "# Arrays are mutable. Array is a collection of primitive data types.\n",
    "\n",
    "import array\n",
    "\n",
    "numbers = array.array('i', [1, 2, 3, 4, 5])  # numbers is an array, of integer type (i), with values 1,2,3,4,5\n",
    "print(numbers[2])\n",
    "numbers.append(20)  # adds 20 to the end of the array\n",
    "numbers.pop()  # removes the last element\n",
    "numbers.pop(3)  # removes the element at index 3\n",
    "\n",
    "## List\n",
    "list1 = [1, 2, 3, 4, 5]\n",
    "print(type(list1))\n",
    "my_arr = array.array('i', list1)  # my_arr is an array, of integer type (i), with values 1,2,3,4,5\n",
    "list2 = list(my_arr)  # to convert an array to a list.\n",
    "print(list2)\n",
    "print(f\"First element of the list is {list1[0]}\")  # another method to print, similar to printf.\n",
    "\n",
    "# iterate through list\n",
    "total = 0\n",
    "for i in list2:\n",
    "    total += i\n",
    "print(total)\n"
   ],
   "metadata": {
    "collapsed": false
   },
   "id": "3d616b07a8641b87"
  },
  {
   "cell_type": "markdown",
   "source": [
    "Adding, removing and searching in Lists.\n",
    "\n",
    "\"\"\"\n",
    "Adding elements to a list:\n",
    "    append() - adds an element to the end of the list\n",
    "    insert() - adds an element at the specified position\n",
    "    extend() - adds all elements of one list to another list at the end\n",
    "    + operator - adds all elements of one list to another list at the end\n",
    "    list comprehension - adds all elements of one list to another list at the end\n",
    "\"\"\"\n",
    "\"\"\"\n",
    "Removing elements from a list:\n",
    "    remove() - removes the first matching element from the list\n",
    "    pop() - removes the element at the specified position\n",
    "    clear() - removes all elements from the list\n",
    "    del - removes the element at the specified position\n",
    "    list comprehension - removes an element from the list\n",
    "\"\"\"\n",
    "\"\"\"\n",
    "Searching elements in a list:\n",
    "    index() - returns the index of the first matched element\n",
    "    count() - returns the count of number of items passed as an argument\n",
    "    in - returns True if an item exists in the list\n",
    "    copy() - returns a copy of the list\n",
    "    reverse() - reverses the order of the list\n",
    "    sort() - sorts the list\n",
    "    \n",
    "\"\"\"\n"
   ],
   "metadata": {
    "collapsed": false
   },
   "id": "db8f45149ef6532"
  },
  {
   "cell_type": "code",
   "outputs": [],
   "source": [
    "list1 = [1, 2, 3, 4, 5]\n",
    "list1.append(6)               # adds 6 to the end of the list\n",
    "list1.insert(5,7)             # adds 7 at index 5\n",
    "list1.extend([8,9,10])        # adds 8,9,10 to the end of the list\n",
    "list1 = list1 + [12,15]       # adds 12,15 to the end of the list"
   ],
   "metadata": {
    "collapsed": false,
    "ExecuteTime": {
     "end_time": "2024-02-01T04:24:44.866540499Z",
     "start_time": "2024-02-01T04:24:44.839214262Z"
    }
   },
   "id": "a4da2c3cd678ddeb",
   "execution_count": 1
  },
  {
   "cell_type": "code",
   "outputs": [],
   "source": [
    "list1.remove(3)               # removes the first occurrence of 3\n",
    "list1.pop()                   # removes the last element\n",
    "list1.pop(5)                  # removes the element at index 5\n",
    "list1.clear()                 # removes all elements from the list\n",
    "del list1[0]                  # removes the element at index 0\n"
   ],
   "metadata": {
    "collapsed": false
   },
   "id": "25e837ca56ef6bf9"
  },
  {
   "cell_type": "code",
   "outputs": [
    {
     "name": "stdout",
     "output_type": "stream",
     "text": [
      "2\n",
      "1\n",
      "True\n",
      "[1, 2, 3, 4, 5]\n"
     ]
    }
   ],
   "source": [
    "list1 = [1, 2, 3, 4, 5]\n",
    "print(list1.index(3))         # returns the index of the first occurrence of 3\n",
    "print(list1.count(3))         # returns the count of number of times 3 occurs in the list\n",
    "print(3 in list1)             # returns True if 3 exists in the list\n",
    "list2 = list1.copy()          # returns a copy of the list\n",
    "print(list2)                  # here it creates a copy of list1 and assigns it to list2, at a different location\n"
   ],
   "metadata": {
    "collapsed": false,
    "ExecuteTime": {
     "end_time": "2024-02-01T04:40:38.181126002Z",
     "start_time": "2024-02-01T04:40:38.140433946Z"
    }
   },
   "id": "cbc15f4fca66c4e5",
   "execution_count": 2
  },
  {
   "cell_type": "code",
   "outputs": [
    {
     "data": {
      "text/plain": "[2, 3, 4]"
     },
     "execution_count": 5,
     "metadata": {},
     "output_type": "execute_result"
    }
   ],
   "source": [
    "## Slice operator, to get a sublist from a list.\n",
    "list1 = [1, 2, 3, 4, 5] \n",
    "list2 = list1[1:len(list1)-1]            # returns a list from index 1 to index length-1\n",
    "list2"
   ],
   "metadata": {
    "collapsed": false,
    "ExecuteTime": {
     "end_time": "2024-02-01T04:45:22.998651758Z",
     "start_time": "2024-02-01T04:45:22.939730262Z"
    }
   },
   "id": "5644ae71391ba2fb",
   "execution_count": 5
  },
  {
   "cell_type": "code",
   "outputs": [
    {
     "name": "stdout",
     "output_type": "stream",
     "text": [
      "[1, 2, 3, 4, 5]\n"
     ]
    }
   ],
   "source": [
    "list1 = list(map(int, input().split(\" \")) )   # take a space separated input and convert it into a list of                                                    integers.\n",
    "print(list1)\n"
   ],
   "metadata": {
    "collapsed": false,
    "ExecuteTime": {
     "end_time": "2024-02-01T04:50:39.617065577Z",
     "start_time": "2024-02-01T04:50:35.850155528Z"
    }
   },
   "id": "e7ed9e336fd71213",
   "execution_count": 8
  },
  {
   "cell_type": "code",
   "outputs": [
    {
     "name": "stdout",
     "output_type": "stream",
     "text": [
      "55\n"
     ]
    }
   ],
   "source": [
    "## the largest element of a list\n",
    "\n",
    "list1 = list(map(int, input().split(\" \")))\n",
    "max_ele = list1[0]\n",
    "for i in list1:\n",
    "    if i > max_ele:\n",
    "        max_ele = i\n",
    "print(max_ele)"
   ],
   "metadata": {
    "collapsed": false,
    "ExecuteTime": {
     "end_time": "2024-02-01T04:51:59.826451948Z",
     "start_time": "2024-02-01T04:51:51.931412413Z"
    }
   },
   "id": "8ee6e9ea7b988757",
   "execution_count": 9
  },
  {
   "cell_type": "code",
   "outputs": [
    {
     "name": "stdout",
     "output_type": "stream",
     "text": [
      "Palindrome\n"
     ]
    }
   ],
   "source": [
    "## Palindrome\n",
    "list1 = list(map(int, input().split(\" \")))\n",
    "list2 = list1[::-1]                      # reverse the list\n",
    "if list1 ==list2:\n",
    "    print(\"Palindrome\")\n",
    "else:\n",
    "    print(\"Not Palindrome\")\n"
   ],
   "metadata": {
    "collapsed": false,
    "ExecuteTime": {
     "end_time": "2024-02-01T05:13:37.902072930Z",
     "start_time": "2024-02-01T05:13:28.876689731Z"
    }
   },
   "id": "5870fc832f7bb455",
   "execution_count": 10
  },
  {
   "cell_type": "code",
   "outputs": [
    {
     "name": "stdout",
     "output_type": "stream",
     "text": [
      "[9, 7, 33, 1, 5, 3, 34, 12, 10, 8, 6, 4, 2]\n"
     ]
    }
   ],
   "source": [
    "## get all the even elements at front from a list.\n",
    "\n",
    "def even_ararnge(arr):\n",
    "    index = 0\n",
    "    for i in range(len(arr)):\n",
    "        if(arr[i]%2==0):\n",
    "            arr[i], arr[index] = arr[index], arr[i]\n",
    "            index +=1\n",
    "    arr.reverse()\n",
    "    return arr\n",
    "arr = [1,2,4,3,5,6,33,8,10,12,34,7,9]\n",
    "print(even_ararnge(arr))"
   ],
   "metadata": {
    "collapsed": false,
    "ExecuteTime": {
     "end_time": "2024-02-01T05:37:43.553129461Z",
     "start_time": "2024-02-01T05:37:43.397343493Z"
    }
   },
   "id": "df0f3413c0596c19",
   "execution_count": 21
  }
 ],
 "metadata": {
  "kernelspec": {
   "display_name": "Python 3",
   "language": "python",
   "name": "python3"
  },
  "language_info": {
   "codemirror_mode": {
    "name": "ipython",
    "version": 2
   },
   "file_extension": ".py",
   "mimetype": "text/x-python",
   "name": "python",
   "nbconvert_exporter": "python",
   "pygments_lexer": "ipython2",
   "version": "2.7.6"
  }
 },
 "nbformat": 4,
 "nbformat_minor": 5
}
