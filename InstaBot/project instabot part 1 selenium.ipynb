{
 "cells": [
  {
   "cell_type": "markdown",
   "metadata": {},
   "source": [
    "<h2>Importing Important Libraries:</h2>"
   ]
  },
  {
   "cell_type": "code",
   "execution_count": 1,
   "metadata": {},
   "outputs": [],
   "source": [
    "from selenium import webdriver\n",
    "from selenium.webdriver.common.keys import Keys\n",
    "import time\n",
    "from selenium.common.exceptions import NoSuchElementException\n",
    "from selenium.common.exceptions import StaleElementReferenceException\n",
    "from selenium.common.exceptions import TimeoutException\n",
    "from selenium.webdriver.support.ui import WebDriverWait\n",
    "from selenium.webdriver.support import expected_conditions as EC\n",
    "from selenium.webdriver.common.by import By\n",
    "from selenium.webdriver.support.select import Select\n",
    "from selenium.webdriver.chrome.service import Service\n",
    "from selenium.webdriver.chrome.options import Options"
   ]
  },
  {
   "cell_type": "markdown",
   "metadata": {},
   "source": [
    "<h2>Starting Chrome WebDriver:</h2>"
   ]
  },
  {
   "cell_type": "code",
   "execution_count": 2,
   "metadata": {},
   "outputs": [
    {
     "ename": "AttributeError",
     "evalue": "'str' object has no attribute 'capabilities'",
     "output_type": "error",
     "traceback": [
      "\u001b[1;31m---------------------------------------------------------------------------\u001b[0m",
      "\u001b[1;31mAttributeError\u001b[0m                            Traceback (most recent call last)",
      "Cell \u001b[1;32mIn[2], line 1\u001b[0m\n\u001b[1;32m----> 1\u001b[0m driver\u001b[38;5;241m=\u001b[39m\u001b[43mwebdriver\u001b[49m\u001b[38;5;241;43m.\u001b[39;49m\u001b[43mChrome\u001b[49m\u001b[43m(\u001b[49m\u001b[38;5;124;43m'\u001b[39;49m\u001b[38;5;124;43mC:/Users/anshu/Downloads/chromedriver-win64/chromedriver.exe\u001b[39;49m\u001b[38;5;124;43m'\u001b[39;49m\u001b[43m)\u001b[49m\n",
      "File \u001b[1;32mc:\\Users\\anshu\\AppData\\Local\\Programs\\Python\\Python313\\Lib\\site-packages\\selenium\\webdriver\\chrome\\webdriver.py:45\u001b[0m, in \u001b[0;36mWebDriver.__init__\u001b[1;34m(self, options, service, keep_alive)\u001b[0m\n\u001b[0;32m     42\u001b[0m service \u001b[38;5;241m=\u001b[39m service \u001b[38;5;28;01mif\u001b[39;00m service \u001b[38;5;28;01melse\u001b[39;00m Service()\n\u001b[0;32m     43\u001b[0m options \u001b[38;5;241m=\u001b[39m options \u001b[38;5;28;01mif\u001b[39;00m options \u001b[38;5;28;01melse\u001b[39;00m Options()\n\u001b[1;32m---> 45\u001b[0m \u001b[38;5;28;43msuper\u001b[39;49m\u001b[43m(\u001b[49m\u001b[43m)\u001b[49m\u001b[38;5;241;43m.\u001b[39;49m\u001b[38;5;21;43m__init__\u001b[39;49m\u001b[43m(\u001b[49m\n\u001b[0;32m     46\u001b[0m \u001b[43m    \u001b[49m\u001b[43mbrowser_name\u001b[49m\u001b[38;5;241;43m=\u001b[39;49m\u001b[43mDesiredCapabilities\u001b[49m\u001b[38;5;241;43m.\u001b[39;49m\u001b[43mCHROME\u001b[49m\u001b[43m[\u001b[49m\u001b[38;5;124;43m\"\u001b[39;49m\u001b[38;5;124;43mbrowserName\u001b[39;49m\u001b[38;5;124;43m\"\u001b[39;49m\u001b[43m]\u001b[49m\u001b[43m,\u001b[49m\n\u001b[0;32m     47\u001b[0m \u001b[43m    \u001b[49m\u001b[43mvendor_prefix\u001b[49m\u001b[38;5;241;43m=\u001b[39;49m\u001b[38;5;124;43m\"\u001b[39;49m\u001b[38;5;124;43mgoog\u001b[39;49m\u001b[38;5;124;43m\"\u001b[39;49m\u001b[43m,\u001b[49m\n\u001b[0;32m     48\u001b[0m \u001b[43m    \u001b[49m\u001b[43moptions\u001b[49m\u001b[38;5;241;43m=\u001b[39;49m\u001b[43moptions\u001b[49m\u001b[43m,\u001b[49m\n\u001b[0;32m     49\u001b[0m \u001b[43m    \u001b[49m\u001b[43mservice\u001b[49m\u001b[38;5;241;43m=\u001b[39;49m\u001b[43mservice\u001b[49m\u001b[43m,\u001b[49m\n\u001b[0;32m     50\u001b[0m \u001b[43m    \u001b[49m\u001b[43mkeep_alive\u001b[49m\u001b[38;5;241;43m=\u001b[39;49m\u001b[43mkeep_alive\u001b[49m\u001b[43m,\u001b[49m\n\u001b[0;32m     51\u001b[0m \u001b[43m\u001b[49m\u001b[43m)\u001b[49m\n",
      "File \u001b[1;32mc:\\Users\\anshu\\AppData\\Local\\Programs\\Python\\Python313\\Lib\\site-packages\\selenium\\webdriver\\chromium\\webdriver.py:50\u001b[0m, in \u001b[0;36mChromiumDriver.__init__\u001b[1;34m(self, browser_name, vendor_prefix, options, service, keep_alive)\u001b[0m\n\u001b[0;32m     47\u001b[0m \u001b[38;5;28mself\u001b[39m\u001b[38;5;241m.\u001b[39mservice \u001b[38;5;241m=\u001b[39m service\n\u001b[0;32m     49\u001b[0m finder \u001b[38;5;241m=\u001b[39m DriverFinder(\u001b[38;5;28mself\u001b[39m\u001b[38;5;241m.\u001b[39mservice, options)\n\u001b[1;32m---> 50\u001b[0m \u001b[38;5;28;01mif\u001b[39;00m \u001b[43mfinder\u001b[49m\u001b[38;5;241;43m.\u001b[39;49m\u001b[43mget_browser_path\u001b[49m\u001b[43m(\u001b[49m\u001b[43m)\u001b[49m:\n\u001b[0;32m     51\u001b[0m     options\u001b[38;5;241m.\u001b[39mbinary_location \u001b[38;5;241m=\u001b[39m finder\u001b[38;5;241m.\u001b[39mget_browser_path()\n\u001b[0;32m     52\u001b[0m     options\u001b[38;5;241m.\u001b[39mbrowser_version \u001b[38;5;241m=\u001b[39m \u001b[38;5;28;01mNone\u001b[39;00m\n",
      "File \u001b[1;32mc:\\Users\\anshu\\AppData\\Local\\Programs\\Python\\Python313\\Lib\\site-packages\\selenium\\webdriver\\common\\driver_finder.py:47\u001b[0m, in \u001b[0;36mDriverFinder.get_browser_path\u001b[1;34m(self)\u001b[0m\n\u001b[0;32m     46\u001b[0m \u001b[38;5;28;01mdef\u001b[39;00m \u001b[38;5;21mget_browser_path\u001b[39m(\u001b[38;5;28mself\u001b[39m) \u001b[38;5;241m-\u001b[39m\u001b[38;5;241m>\u001b[39m \u001b[38;5;28mstr\u001b[39m:\n\u001b[1;32m---> 47\u001b[0m     \u001b[38;5;28;01mreturn\u001b[39;00m \u001b[38;5;28;43mself\u001b[39;49m\u001b[38;5;241;43m.\u001b[39;49m\u001b[43m_binary_paths\u001b[49m\u001b[43m(\u001b[49m\u001b[43m)\u001b[49m[\u001b[38;5;124m\"\u001b[39m\u001b[38;5;124mbrowser_path\u001b[39m\u001b[38;5;124m\"\u001b[39m]\n",
      "File \u001b[1;32mc:\\Users\\anshu\\AppData\\Local\\Programs\\Python\\Python313\\Lib\\site-packages\\selenium\\webdriver\\common\\driver_finder.py:56\u001b[0m, in \u001b[0;36mDriverFinder._binary_paths\u001b[1;34m(self)\u001b[0m\n\u001b[0;32m     53\u001b[0m \u001b[38;5;28;01mif\u001b[39;00m \u001b[38;5;28mself\u001b[39m\u001b[38;5;241m.\u001b[39m_paths[\u001b[38;5;124m\"\u001b[39m\u001b[38;5;124mdriver_path\u001b[39m\u001b[38;5;124m\"\u001b[39m]:\n\u001b[0;32m     54\u001b[0m     \u001b[38;5;28;01mreturn\u001b[39;00m \u001b[38;5;28mself\u001b[39m\u001b[38;5;241m.\u001b[39m_paths\n\u001b[1;32m---> 56\u001b[0m browser \u001b[38;5;241m=\u001b[39m \u001b[38;5;28;43mself\u001b[39;49m\u001b[38;5;241;43m.\u001b[39;49m\u001b[43m_options\u001b[49m\u001b[38;5;241;43m.\u001b[39;49m\u001b[43mcapabilities\u001b[49m[\u001b[38;5;124m\"\u001b[39m\u001b[38;5;124mbrowserName\u001b[39m\u001b[38;5;124m\"\u001b[39m]\n\u001b[0;32m     57\u001b[0m \u001b[38;5;28;01mtry\u001b[39;00m:\n\u001b[0;32m     58\u001b[0m     path \u001b[38;5;241m=\u001b[39m \u001b[38;5;28mself\u001b[39m\u001b[38;5;241m.\u001b[39m_service\u001b[38;5;241m.\u001b[39mpath\n",
      "\u001b[1;31mAttributeError\u001b[0m: 'str' object has no attribute 'capabilities'"
     ]
    }
   ],
   "source": [
    "chrome_options = Options()\n",
    "chrome_options.add_argument(\"--start-maximized\")  \n",
    "chrome_options.add_argument(\"--disable-infobars\")  \n",
    "\n",
    "service = Service('C:/Users/anshu/Downloads/chromedriver-win64/chromedriver.exe')\n",
    "\n",
    "driver = webdriver.Chrome(service=service, options=chrome_options)"
   ]
  },
  {
   "cell_type": "markdown",
   "metadata": {},
   "source": [
    "<h2>Visiting Instagram</h2>\n"
   ]
  },
  {
   "cell_type": "code",
   "execution_count": 8,
   "metadata": {},
   "outputs": [],
   "source": [
    "driver.get('https://www.instagram.com/')\n",
    "driver.maximize_window()\n",
    "waiter=WebDriverWait(driver, 10).until(EC.presence_of_element_located((By.LINK_TEXT, \"Log in\")))"
   ]
  },
  {
   "cell_type": "markdown",
   "metadata": {},
   "source": [
    "<h2>Visiting logging portal of Instagram:</h2>"
   ]
  },
  {
   "cell_type": "code",
   "execution_count": 9,
   "metadata": {},
   "outputs": [],
   "source": [
    "driver.find_element_by_link_text('Log in').click()\n",
    "waiter=WebDriverWait(driver, 10).until(EC.presence_of_element_located((By.NAME, \"username\")))\n",
    "time.sleep(2)"
   ]
  },
  {
   "cell_type": "markdown",
   "metadata": {},
   "source": [
    "<h2>Input Credentials:</h2>\n"
   ]
  },
  {
   "cell_type": "code",
   "execution_count": 10,
   "metadata": {},
   "outputs": [],
   "source": [
    "SAMPLE_USERNAME='_raj3307'\n",
    "SAMPLE_PASSWORD='Anshul@1606'\n",
    "\n",
    "username_box=driver.find_element_by_name('username')\n",
    "username_box.send_keys(SAMPLE_USERNAME)\n",
    "password_box=driver.find_element_by_name('password')\n",
    "password_box.send_keys(SAMPLE_PASSWORD)\n",
    "driver.find_element_by_xpath('//button[contains(@class, \"L3NKy\")]/div').click()\n",
    "waiter=WebDriverWait(driver, 10).until(EC.presence_of_element_located((By.CLASS_NAME, \"HoLwm\")))"
   ]
  },
  {
   "cell_type": "markdown",
   "metadata": {},
   "source": [
    "<h2>Supressing \"Turn On Notifications\" Window:</h2>"
   ]
  },
  {
   "cell_type": "code",
   "execution_count": 11,
   "metadata": {},
   "outputs": [],
   "source": [
    "driver.find_element_by_class_name('HoLwm').click()\n",
    "waiter=WebDriverWait(driver, 10).until(EC.presence_of_element_located((By.CLASS_NAME, \"TqC_a\")))"
   ]
  },
  {
   "cell_type": "markdown",
   "metadata": {},
   "source": [
    "## Enabling the Search Box to recieve input\n"
   ]
  },
  {
   "cell_type": "code",
   "execution_count": 12,
   "metadata": {},
   "outputs": [],
   "source": [
    "search_box=driver.find_element_by_class_name('TqC_a').click()\n",
    "waiter=WebDriverWait(driver, 10).until(EC.presence_of_element_located((By.CLASS_NAME, \"XTCLo\")))"
   ]
  },
  {
   "cell_type": "markdown",
   "metadata": {},
   "source": [
    "<h2>Input \"Food\" in the search box:</h2>"
   ]
  },
  {
   "cell_type": "code",
   "execution_count": 13,
   "metadata": {},
   "outputs": [],
   "source": [
    "search_box=driver.find_element_by_class_name('XTCLo')\n",
    "search_box.send_keys('food')\n",
    "waiter=WebDriverWait(driver, 10).until(EC.presence_of_element_located((By.XPATH, '//a[@class=\"yCE8d  \"]/div/div[2]/div/span')))"
   ]
  },
  {
   "cell_type": "markdown",
   "metadata": {},
   "source": [
    "<h4>Printing all the names of the Instagram Handles that are displayed in list after typing “food”</h4>"
   ]
  },
  {
   "cell_type": "code",
   "execution_count": 14,
   "metadata": {
    "scrolled": true
   },
   "outputs": [
    {
     "name": "stdout",
     "output_type": "stream",
     "text": [
      "foodprintsofdelhi\n",
      "yourfoodlab\n",
      "foodtalkindia\n",
      "foody_addaaa\n",
      "foodys\n",
      "foodgod\n",
      "food\n",
      "foodnetwork\n",
      "foodswerve\n",
      "foodmaniacindia\n",
      "joos.food\n",
      "foodgasm98\n",
      "mumbaifoodie\n",
      "iharnoor\n",
      "food_lunatic\n",
      "foodfoodtv\n",
      "foodie_ank\n",
      "dillifoodies\n",
      "foodiecouple_parvan\n",
      "thegreatindianfoodie\n",
      "bangalorefoodiee\n",
      "the_tipsy_foodie\n",
      "foodie_lover_0\n",
      "thisisinsiderfood\n",
      "foodafouti\n",
      "delhifoodwalks\n",
      "foodie_incarnate\n",
      "foodofmumbai\n",
      "foodiearuna\n",
      "foodbible\n",
      "the_panda_foodie\n",
      "stomach\n",
      "foodyfetish\n",
      "foodydiy.s\n",
      "thecrazyindianfoodie\n",
      "foodieterian\n",
      "foodymanic\n",
      "foodofgoa\n",
      "streetfoodrecipe\n",
      "foodie.snacks\n",
      "hot_for_food\n",
      "foodfusionpk\n",
      "food_affairs_bangalore\n",
      "food_gambler\n",
      "foodelhi\n",
      "dilsefoodie\n",
      "foodiebaniya\n",
      "meghnasfoodmagic\n",
      "foodeliciousmumbai\n",
      "love_food\n",
      "foodkars\n",
      "the_foodie_bae\n",
      "tiktok_foodtravel\n",
      "foodiesince96\n",
      "foodzaara\n",
      "foodyypreneur\n",
      "bhukkhadbybirth\n",
      "buzzfeedfood\n",
      "foodfuly\n",
      "sff_ahpl\n",
      "science_and_food\n",
      "foodmad99\n",
      "food_fantasy___\n",
      "seokjinfoodie\n",
      "the_foodie_dad\n",
      "street_food_chandigarh\n",
      "healthyfoodvideos\n",
      "fooduz\n",
      "expandingmindset\n",
      "foodtalknoida\n",
      "foodiedilse\n",
      "foodrush.recipe\n",
      "jollyfoodfellow\n",
      "saltfoodfest\n",
      "foodiebliss09\n",
      "foodietraveller_abhax\n",
      "thisisdelhi\n",
      "thefoodieengineerspune\n",
      "foodieforeverandever23\n",
      "streetfoodhub.in\n",
      "Food Corporation of India\n",
      "Food Court\n",
      "livingfoodz\n",
      "foodreviewssydney\n",
      "foodyvid\n",
      "thefoodbarnlnmiit\n",
      "foodmapjaipur\n",
      "Gupta Foods Family Restaurant\n",
      "_foodtalks__\n",
      "the_food_empire_\n",
      "foodlty\n",
      "foodie_on_the_way3\n",
      "wonder_foodies\n",
      "food_connects_the_world\n",
      "foodie_jharkhand_\n",
      "foodie_baniyaa\n"
     ]
    }
   ],
   "source": [
    "for i in driver.find_elements_by_xpath('//a[@class=\"yCE8d  \"]/div/div[2]/div/span'):\n",
    "    print(i.get_attribute('innerHTML'))\n",
    "waiter=WebDriverWait(driver, 10).until(EC.presence_of_element_located((By.CLASS_NAME, \"coreSpriteSearchClear\")))"
   ]
  },
  {
   "cell_type": "markdown",
   "metadata": {},
   "source": [
    "<h2>Clearing Input:</h2>"
   ]
  },
  {
   "cell_type": "code",
   "execution_count": 15,
   "metadata": {},
   "outputs": [],
   "source": [
    "driver.find_element_by_class_name('coreSpriteSearchClear').click()\n",
    "waiter=WebDriverWait(driver, 10).until(EC.presence_of_element_located((By.CLASS_NAME, \"TqC_a\")))"
   ]
  },
  {
   "cell_type": "markdown",
   "metadata": {},
   "source": [
    "<h2>Enabling Search box:</h2>"
   ]
  },
  {
   "cell_type": "code",
   "execution_count": 16,
   "metadata": {},
   "outputs": [],
   "source": [
    "driver.find_element_by_class_name('TqC_a').click()\n",
    "waiter=WebDriverWait(driver, 10).until(EC.presence_of_element_located((By.CLASS_NAME, \"XTCLo\")))"
   ]
  },
  {
   "cell_type": "markdown",
   "metadata": {},
   "source": [
    "<h2>Searching and Opening profile of \"So Delhi\" :</h2>"
   ]
  },
  {
   "cell_type": "code",
   "execution_count": 17,
   "metadata": {},
   "outputs": [],
   "source": [
    "search_box=driver.find_element_by_class_name('XTCLo')\n",
    "search_box.send_keys('So Delhi')\n",
    "waiter=WebDriverWait(driver, 10).until(EC.presence_of_element_located((By.CLASS_NAME, \"yCE8d\")))"
   ]
  },
  {
   "cell_type": "code",
   "execution_count": 18,
   "metadata": {},
   "outputs": [],
   "source": [
    "driver.find_element_by_class_name('yCE8d').click()\n",
    "waiter=WebDriverWait(driver, 10).until(EC.presence_of_element_located((By.CLASS_NAME, \"_6VtSN\")))"
   ]
  },
  {
   "cell_type": "markdown",
   "metadata": {},
   "source": [
    "<h2>Following So Delhi :</h2>"
   ]
  },
  {
   "cell_type": "code",
   "execution_count": 19,
   "metadata": {},
   "outputs": [],
   "source": [
    "if driver.find_element_by_class_name('_6VtSN').get_attribute('innerHTML')=='Following':\n",
    "    print('You are already following the page!')\n",
    "else:\n",
    "    driver.find_element_by_xpath('//button[contains(@class, \"_6VtSN\")]').click()\n",
    "waiter=WebDriverWait(driver, 10).until(EC.presence_of_element_located((By.CLASS_NAME, \"_6VtSN\")))\n",
    "time.sleep(3)"
   ]
  },
  {
   "cell_type": "markdown",
   "metadata": {},
   "source": [
    "<h2>Unfollowing So Delhi :</h2>"
   ]
  },
  {
   "cell_type": "code",
   "execution_count": 20,
   "metadata": {},
   "outputs": [],
   "source": [
    "if driver.find_element_by_class_name('_6VtSN').get_attribute('innerHTML')=='Following':\n",
    "    driver.find_element_by_class_name('_6VtSN').click()\n",
    "    driver.find_element_by_xpath('//button[contains(@class, \"-Cab_\")]').click()\n",
    "else:\n",
    "    print('You have already unfollowed the page')"
   ]
  },
  {
   "cell_type": "markdown",
   "metadata": {},
   "source": [
    "<h2>Enabling the search box to visit \"dilsefoodie\":</h2>"
   ]
  },
  {
   "cell_type": "code",
   "execution_count": 21,
   "metadata": {},
   "outputs": [],
   "source": [
    "driver.find_element_by_class_name('TqC_a').click()\n",
    "waiter=WebDriverWait(driver, 10).until(EC.presence_of_element_located((By.CLASS_NAME, \"XTCLo\")))"
   ]
  },
  {
   "cell_type": "markdown",
   "metadata": {},
   "source": [
    "<h2>Opening Profile of \"dilsefoodie\" :</h2>"
   ]
  },
  {
   "cell_type": "code",
   "execution_count": 22,
   "metadata": {},
   "outputs": [],
   "source": [
    "search_box=driver.find_element_by_class_name('XTCLo')\n",
    "search_box.send_keys('dilsefoodie')\n",
    "waiter=WebDriverWait(driver, 10).until(EC.presence_of_element_located((By.CLASS_NAME, \"yCE8d\")))"
   ]
  },
  {
   "cell_type": "code",
   "execution_count": 23,
   "metadata": {},
   "outputs": [],
   "source": [
    "driver.find_element_by_class_name('yCE8d').click()\n",
    "time.sleep(3)"
   ]
  },
  {
   "cell_type": "markdown",
   "metadata": {},
   "source": [
    "<h2>Scrolling manually to load elements:</h2>"
   ]
  },
  {
   "cell_type": "code",
   "execution_count": 24,
   "metadata": {},
   "outputs": [],
   "source": [
    "driver.execute_script('window.scrollBy(0, 3000);')\n",
    "time.sleep(2.5)\n",
    "driver.execute_script('window.scrollBy(0, 3000);')\n",
    "time.sleep(2.5)\n",
    "waiter=WebDriverWait(driver, 10).until(EC.presence_of_element_located((By.XPATH, '//div[contains(@class, \"Nnq7C\")]/div/a/div[1]')))"
   ]
  },
  {
   "cell_type": "markdown",
   "metadata": {},
   "source": [
    "<h2>Liking 30 posts of dilsefoodie:</h2>"
   ]
  },
  {
   "cell_type": "code",
   "execution_count": 25,
   "metadata": {},
   "outputs": [],
   "source": [
    "#liking 30 posts\n",
    "count=0\n",
    "for i in driver.find_elements_by_xpath('//div[contains(@class, \"Nnq7C\")]/div/a/div[1]'):\n",
    "    i.click()\n",
    "    trier=WebDriverWait(driver, 10).until(EC.presence_of_element_located((By.XPATH,\n",
    "                                                                    \"//button[contains(@class, 'dCJp8')]\")))\n",
    "    \n",
    "    try:\n",
    "        WebDriverWait(driver, 5).until(EC.presence_of_element_located((By.XPATH, '//section[contains(@class, \"ltpMr\")]')))\n",
    "        time.sleep(0.8)\n",
    "        driver.find_element_by_xpath('//button[contains(@class, \"dCJp8\")]/span[contains(@class, \"glyphsSpriteHeart__outline__24__grey_9\")]').click()\n",
    "    except NoSuchElementException:\n",
    "        print('Already Liked!')\n",
    "    driver.back()\n",
    "    count+=1\n",
    "    if count==30:\n",
    "        print('Liked All(30)!')\n",
    "        break\n",
    "waiter=WebDriverWait(driver, 10).until(EC.presence_of_element_located((By.XPATH, '//div[contains(@class, \"Nnq7C\")]/div/a/div[1]')))\n",
    "time.sleep(2)\n",
    "driver.execute_script('window.scrollTo(0, 0)')"
   ]
  },
  {
   "cell_type": "markdown",
   "metadata": {},
   "source": [
    "<h2>Unliking 30 posts of dilsefoodie:</h2>"
   ]
  },
  {
   "cell_type": "code",
   "execution_count": 26,
   "metadata": {},
   "outputs": [
    {
     "name": "stdout",
     "output_type": "stream",
     "text": [
      "Already UnLiked!\n",
      "Already UnLiked!\n",
      "Already UnLiked!\n",
      "Already UnLiked!\n",
      "Already UnLiked!\n",
      "Already UnLiked!\n",
      "Already UnLiked!\n",
      "Already UnLiked!\n",
      "Already UnLiked!\n",
      "Already UnLiked!\n",
      "Already UnLiked!\n",
      "Already UnLiked!\n"
     ]
    }
   ],
   "source": [
    "#unliking 30 posts\n",
    "count=0\n",
    "for i in driver.find_elements_by_xpath('//div[contains(@class, \"Nnq7C\")]/div/a/div[1]'):\n",
    "    i.click()\n",
    "    trier=WebDriverWait(driver, 10).until(EC.presence_of_element_located((By.XPATH,\n",
    "                                                                    \"//button[contains(@class, 'dCJp8')]\")))\n",
    "    \n",
    "    try:\n",
    "        WebDriverWait(driver, 5).until(EC.presence_of_element_located((By.XPATH, '//section[contains(@class, \"ltpMr\")]')))\n",
    "        driver.find_element_by_xpath('//button[contains(@class, \"dCJp8\")]/span[contains(@class, \"glyphsSpriteHeart__filled__24__red_5\")]').click()\n",
    "    except NoSuchElementException:\n",
    "        print('Already UnLiked!')\n",
    "    driver.back()\n",
    "    count+=1\n",
    "    time.sleep(0.3)\n",
    "    if count==30:\n",
    "        print('UnLiked All(30)!')\n",
    "        break\n",
    "time.sleep(2)"
   ]
  },
  {
   "cell_type": "markdown",
   "metadata": {},
   "source": [
    "<h2>Visiting So Delhi:</h2>"
   ]
  },
  {
   "cell_type": "code",
   "execution_count": 27,
   "metadata": {},
   "outputs": [],
   "source": [
    "driver.find_element_by_class_name('TqC_a').click()\n",
    "waiter=WebDriverWait(driver, 10).until(EC.presence_of_element_located((By.CLASS_NAME, \"XTCLo\")))"
   ]
  },
  {
   "cell_type": "code",
   "execution_count": 28,
   "metadata": {},
   "outputs": [],
   "source": [
    "search_box=driver.find_element_by_class_name('XTCLo')\n",
    "search_box.send_keys('So Delhi')\n",
    "waiter=WebDriverWait(driver, 10).until(EC.presence_of_element_located((By.CLASS_NAME, \"yCE8d\")))"
   ]
  },
  {
   "cell_type": "code",
   "execution_count": 29,
   "metadata": {},
   "outputs": [],
   "source": [
    "driver.find_element_by_class_name('yCE8d').click()\n",
    "waiter=WebDriverWait(driver, 10).until(EC.presence_of_element_located((By.CLASS_NAME, \"_6VtSN\")))\n",
    "time.sleep(3)"
   ]
  },
  {
   "cell_type": "markdown",
   "metadata": {},
   "source": [
    "<h2>Extracting the usernames of the first 500 followers of 'sodelhi' :</h2>"
   ]
  },
  {
   "cell_type": "code",
   "execution_count": 31,
   "metadata": {},
   "outputs": [],
   "source": [
    "try:\n",
    "    driver.execute_script('window.scrollTo(0, 0)')\n",
    "    driver.find_element_by_xpath('//a[@class=\"-nal3 \"]/span[@class=\"g47SY \"]').click()\n",
    "except NoSuchElementException:\n",
    "    driver.find_element_by_xpath('//a[@class=\" _81NM2\"]/span[contains(@class, \"g47SY\")]').click()\n",
    "waiter=WebDriverWait(driver, 10).until(EC.presence_of_element_located((By.XPATH, '//a[contains(@class, \"notranslate\")]')))"
   ]
  },
  {
   "cell_type": "code",
   "execution_count": 32,
   "metadata": {
    "scrolled": true
   },
   "outputs": [
    {
     "data": {
      "text/plain": [
       "['vishal_8395',\n",
       " 'mishrajijaiho',\n",
       " 'shellyagg23',\n",
       " 'saurabhyadav_sy',\n",
       " 'rishabh_patadiya',\n",
       " 'kanishq_besoya_dilli',\n",
       " 'mozzart_designs',\n",
       " 'belle.matte',\n",
       " 'ms9502147',\n",
       " 'i.abhishekk',\n",
       " 'gurwindersingh4809',\n",
       " 'sekhwat',\n",
       " 'ibn_e_batuta24',\n",
       " 'rish_ita123',\n",
       " 'greeshmaudhayan',\n",
       " 'nikunj_singhal',\n",
       " 'sheetal.negi',\n",
       " 'simmu.ahuja',\n",
       " 'mannanju23',\n",
       " 'anandprakash.ap',\n",
       " 'kashyapsuraj968700',\n",
       " 'sherryism',\n",
       " 'shruti.2',\n",
       " 'sania._.rashid',\n",
       " 'kirtiigarg',\n",
       " 'priya.bachal',\n",
       " 'swatingle',\n",
       " 'travelmax12345',\n",
       " 'ritobun23',\n",
       " 'thinking.birds',\n",
       " 'abhishekchandranmv',\n",
       " 'raza._.salman',\n",
       " 'divyamgirdhar',\n",
       " '_wwrrd',\n",
       " 'prashant_672',\n",
       " 'be_a_choudhary',\n",
       " 'mira_taekook',\n",
       " 'muskanaggarwal123',\n",
       " 'prats_singhal',\n",
       " 'roving_gourmet',\n",
       " 'naivebird_',\n",
       " 'aayushibagga',\n",
       " 'delhikeswaad',\n",
       " 'gaurav__07',\n",
       " 'bake.me.beauty',\n",
       " 'cuisinenartcatering',\n",
       " 'iklavya',\n",
       " 'aadil_rizwan_',\n",
       " 'tanya_gulia',\n",
       " 'prernawine',\n",
       " 'rheacurious',\n",
       " 'tenzdroma',\n",
       " 'audeaugias',\n",
       " 'custreetfoods',\n",
       " 'anuj_uppal01',\n",
       " 'dheeraj.wadhwa',\n",
       " 'taposhi_pathak',\n",
       " 'adsingholive',\n",
       " 's.boyhood',\n",
       " 'legendhomecare',\n",
       " 'vickym_95',\n",
       " 'tawba_kamli',\n",
       " 'rastog.shikha',\n",
       " 'ritvikarora9',\n",
       " 'godswalk.gw',\n",
       " 'hirafatima112',\n",
       " '__ananya__sharma_98',\n",
       " 'sunder7008',\n",
       " 'futureforwardindia',\n",
       " 'dateplanner.in',\n",
       " 'kunaltravelsforfood',\n",
       " 'malikvijeet',\n",
       " 'raghav_rks',\n",
       " 'paridhi_miglani',\n",
       " 'khushidhingra',\n",
       " '__kaam25___',\n",
       " 'chetna_morwal',\n",
       " 'intherealm_',\n",
       " 'arshisachdeva',\n",
       " 'prakhar.15',\n",
       " '_vazahatt.__',\n",
       " 'bhaven1234',\n",
       " 'the_deetour',\n",
       " 'rudhir_choudhary',\n",
       " '_antaraghosal_',\n",
       " 'dishitaarora',\n",
       " 'yaaro__ka__yaar___2000',\n",
       " 'thesauravkardam_',\n",
       " 'ak.myrza.4',\n",
       " 'ritusingh52',\n",
       " 'kakarlasirisha',\n",
       " 'soniathareja',\n",
       " 'karmakarshilpi',\n",
       " 'mainadaim',\n",
       " 'the_vikashyadav9911',\n",
       " 'not_in_mohmaya',\n",
       " 'parii_agarwal',\n",
       " 'gaga_2692',\n",
       " 'dr.ankitgunaya',\n",
       " 'sphotograaphy',\n",
       " 'vedant_pal17',\n",
       " '_khairad_',\n",
       " '_innervoyages_',\n",
       " 'shreya.rimal',\n",
       " 'rav.aroras',\n",
       " 'aditya._.01',\n",
       " '_philip.alex',\n",
       " 'riya.sakhuja',\n",
       " 'areej_khaan98',\n",
       " 'mrinion',\n",
       " 'shardakunwarsingh',\n",
       " 'anmol_.gupta_',\n",
       " 'goel_shivi999',\n",
       " '_prathamgupta_',\n",
       " 'maddy_agg',\n",
       " 'rishikumarjhamb',\n",
       " 'saharan_abhinav',\n",
       " 'sam_4554',\n",
       " 'farheen236',\n",
       " 'imrahul_aggarwal',\n",
       " 'aboutchandan',\n",
       " 'giggs475',\n",
       " 'nikitasingh26',\n",
       " 'lakshay_143',\n",
       " 'manojmehra_',\n",
       " 'sparkling_smile_8403',\n",
       " 'avik.chawla12',\n",
       " 'rayeenguljar',\n",
       " 'ajay.kardam.3388',\n",
       " 'daspritipallabi',\n",
       " '914025_5149_samar',\n",
       " 'karen.raheja',\n",
       " 'sachinyadavahir3230',\n",
       " 'ritvik.17',\n",
       " 'bajaj_cheshta',\n",
       " 'zo_el_zo',\n",
       " 'rathourshivangi',\n",
       " 'arkaay',\n",
       " 'geetanjalijunejaofficial',\n",
       " 'chjind',\n",
       " 'sana_mudeer',\n",
       " 'anshika.goyal1305',\n",
       " 'shubham_anthwal',\n",
       " 'iamssiddiqui',\n",
       " 'mansi__y',\n",
       " 'akanksha_z10',\n",
       " '226saaransh',\n",
       " 'bhavan.harjani',\n",
       " 'arushiagwl',\n",
       " 'zaidqureshi_101',\n",
       " 'harsharma.2912',\n",
       " 'whyyousovaridh',\n",
       " 'paridhi.khandelwal31',\n",
       " '_akshadapatil_',\n",
       " 'kritu___',\n",
       " 'anjusweets',\n",
       " 'prikasha_29',\n",
       " 'franky_franky_franky_321',\n",
       " 'miyaunnnn',\n",
       " 'tejassprajapati',\n",
       " 'debasmita118',\n",
       " 'stickyriceasianbistro',\n",
       " 'grandmercure_vadodara',\n",
       " 'upsc_aspirant_sundari',\n",
       " 'aastha309',\n",
       " 'insta_official9090',\n",
       " 'waseemwaseem8336',\n",
       " 'guptaritika19',\n",
       " 'shubha2508',\n",
       " 'tiddfull_talks',\n",
       " '_sincerely_your_',\n",
       " 'ramyadraj',\n",
       " 'harshita.varshney',\n",
       " 'saloni17somani',\n",
       " 'manya_tyagi06',\n",
       " 'karan.srivastava.944',\n",
       " '_mr_prince_choudhary',\n",
       " 'iamsskid',\n",
       " 'shivanishivani3',\n",
       " 'deepak.saluja.52035',\n",
       " 'missquirkyfoodie',\n",
       " 'mannimanmeet23',\n",
       " '__.djinn.__',\n",
       " 'riyapuri20',\n",
       " '_dhavaljadav',\n",
       " 'harjot._singhh',\n",
       " 'adithyaasaseendran',\n",
       " 'aalisha_roy',\n",
       " 'manaf_m_f_k__',\n",
       " 'madhureddynalla',\n",
       " 'gv.artsy.lens',\n",
       " 'srichirps',\n",
       " 'justmalavika',\n",
       " 'saeedeshpande',\n",
       " 'kabir_oberoi',\n",
       " 'gorubansal07',\n",
       " 'ashnamht',\n",
       " 'utlsolar',\n",
       " 'snehum_16',\n",
       " 'a.freee.soul',\n",
       " 'soniagore.999',\n",
       " 'kitchnature',\n",
       " 'aggarwal9124',\n",
       " 'hernandojimenez',\n",
       " 'riyanshee__',\n",
       " 'minimalist_mehak',\n",
       " 'heisnotorious',\n",
       " 'chugh.kavita',\n",
       " 'aj._styles',\n",
       " 'sahilyadav1',\n",
       " '__ankita003',\n",
       " 'komalrao0823',\n",
       " 'khushitpatel',\n",
       " 'mohammed_fahmi_huvaidhi',\n",
       " 'sajid_ama',\n",
       " 'mini_chauhan205',\n",
       " 'hooda_sanjeev_007',\n",
       " 'srajkumar561',\n",
       " 'anshance',\n",
       " 'arpit4072',\n",
       " 'travelstoriesbysuhail',\n",
       " '_the_learner_0',\n",
       " 'sarrukumar',\n",
       " '05babaji',\n",
       " 'aakriitii._',\n",
       " 'kunal.jauhari.90',\n",
       " 'iam__rishika9193',\n",
       " 'harmeet_singh9',\n",
       " 'adeel.zaman8',\n",
       " 'jyoti___86',\n",
       " '786_fashion_house',\n",
       " 'shahkartavya',\n",
       " 'zindagi.gulzaar.haii',\n",
       " 'brune663',\n",
       " 'rohitsngh27',\n",
       " 'golurajput86',\n",
       " 'makhlaque977',\n",
       " 'miss.mistry_',\n",
       " 'ujjawalbhaskarr',\n",
       " '_n.i.n.x.x_',\n",
       " 'vanshrajratn',\n",
       " 'abhisheksaxena5066',\n",
       " 'sakibkhan5295',\n",
       " 'kshitiz_21',\n",
       " 'mahenderv071',\n",
       " 'syedsahib20',\n",
       " 'suraj_kumar_6375802235',\n",
       " 'ruchikasingh8',\n",
       " 'u.t.p.a.l_',\n",
       " 's.p8363',\n",
       " 'rizwan_ansari_48',\n",
       " 'gautamispradhan',\n",
       " 'erza2471',\n",
       " 'sarthaks_05',\n",
       " 'syed.taqvi01',\n",
       " 'misbahuddin1124',\n",
       " 'pinksfortunate',\n",
       " 'chiragdubey285',\n",
       " 'lost_in_the_oblivion',\n",
       " 'spacemultus',\n",
       " 'mehran_spices_palestine',\n",
       " 'jahanarabyarshdang',\n",
       " 'rampher.yadav.735',\n",
       " 'vaishnofoods_co',\n",
       " 'mehak05',\n",
       " 'jaszookspanda',\n",
       " 'thepizzasbox',\n",
       " 'deepesh_girotra',\n",
       " '09_sen0rita',\n",
       " 'urvashipareta',\n",
       " 'simrah638',\n",
       " 'huma6274',\n",
       " 'shivu.bhas',\n",
       " 'manpreetseehraofficial',\n",
       " 'yashikagupta20',\n",
       " 'shrinkhalaschand',\n",
       " 'vani._.sharma',\n",
       " 'divya_chaudhary_gurjar',\n",
       " 'khanhairbutipaler',\n",
       " 'a_tchatterbox',\n",
       " 'sahilchecker',\n",
       " 'vivianmathur22',\n",
       " 'sparklebyridhima',\n",
       " 'surbhimahendru_',\n",
       " 'rashi211',\n",
       " 'birdirubina',\n",
       " 'vinodhrajah',\n",
       " 'asma25apr',\n",
       " 'rksinghrathore',\n",
       " 'tohidalam65',\n",
       " '__praachiii__',\n",
       " 'ayesha.kumar',\n",
       " 'sahilarora099',\n",
       " 'simrankaursahota01_',\n",
       " 'rparul6756',\n",
       " 'amol17mehta',\n",
       " 'isthatreshika',\n",
       " 'rubina_sidhuz',\n",
       " 'imajaytyagi',\n",
       " 'hitesh_k19',\n",
       " 'lifeisgreat227',\n",
       " 'theselvin',\n",
       " 'golchhapratik',\n",
       " 'faizan_fs_786',\n",
       " 'bhawna_mitt4',\n",
       " 'kunaldalal7000',\n",
       " 'pranshu.garg',\n",
       " 'shivamkhandelwal18',\n",
       " 'bax_cd',\n",
       " 'desi_royal__gupta__jii__',\n",
       " 'funnyhai',\n",
       " '_.shesmilemaker._',\n",
       " 'saim.ansari.14473',\n",
       " 'digam1994',\n",
       " '_divyansh.r',\n",
       " 'garvitagulati_',\n",
       " 'chandresh_verma_',\n",
       " 'rishabh84842.gupta',\n",
       " 'raikundan716',\n",
       " 'pratakshaya',\n",
       " 'vipulpf299',\n",
       " 'rash.raj',\n",
       " 'lisa71092',\n",
       " 'swastiiiii14',\n",
       " 'sparklingduchess_231',\n",
       " 'estherqp12',\n",
       " 'wheresjalex',\n",
       " 'param_maghera',\n",
       " '_.khyati_gupta._',\n",
       " 'feedthehungerr',\n",
       " 'pooja4261sharma',\n",
       " 'kuntal59',\n",
       " 'lost_guy_journey',\n",
       " 'i_love_tripping',\n",
       " 'priyanka_verma0707',\n",
       " 'jain_ujjwall',\n",
       " 'am.raks',\n",
       " 'hanisha_kashyap',\n",
       " 'sarabiiiii_',\n",
       " 'abdll5459',\n",
       " 'dixita_shukla',\n",
       " 'pri_ya_batra',\n",
       " 'khushi.pulasth',\n",
       " 'siddiquirizwan78538',\n",
       " 'mariashamsi',\n",
       " 'sourabhdhamija09',\n",
       " 'vaibhav_patil_7',\n",
       " 'pranayeep',\n",
       " 'surjeet5450',\n",
       " 'ad.itya4738',\n",
       " 'rjmh1',\n",
       " 'kritika_vij',\n",
       " 'dev.john11',\n",
       " 'instatottie',\n",
       " 'singh_yash_2003',\n",
       " 'thepragyaanand',\n",
       " '___heema__',\n",
       " 'gagandeepkaur90',\n",
       " 'ghezeljeh_a',\n",
       " 'vaidehi_hada',\n",
       " 's_r_collections____women',\n",
       " 'kanicabhutani',\n",
       " 'karan0389',\n",
       " 'umaraslam46',\n",
       " 'raghav.mangla',\n",
       " 'nishant_1604',\n",
       " 'lalbabuchaubeylalbabu',\n",
       " 'dhruvddg',\n",
       " 'deepnayak1',\n",
       " 'railmeal',\n",
       " 'filmfoodandfashion',\n",
       " 'hablab.at.suyukt',\n",
       " 'slayyyyyy_6',\n",
       " 'kaushik9900',\n",
       " 'kaissuhail',\n",
       " 'harsh13.11',\n",
       " 'naivedhya.piparde',\n",
       " 'sibu___barik',\n",
       " 'alensparrow',\n",
       " 'prabhkirat_singh_gujral',\n",
       " 'monti_sing',\n",
       " 'swatroar',\n",
       " 'uttambhambri',\n",
       " 'lohanagotam',\n",
       " 'ankita24.10',\n",
       " '__anjalichauhan',\n",
       " 'anandtushar658',\n",
       " 'anitajain419',\n",
       " '_sheena.bhatia_',\n",
       " 'kaushalsaini269',\n",
       " 'pengjamalong',\n",
       " 'kissu_2807',\n",
       " 'shahidhussain546',\n",
       " 'shashank_goyal01',\n",
       " 'shrianantaastrology',\n",
       " 'lokesh03_13',\n",
       " 'shreyagoel07',\n",
       " 'the_souled_traveller_foodie',\n",
       " 'an._.ve',\n",
       " 'akshay_iyer30',\n",
       " 'amanbatra20',\n",
       " 'rohanbhuri',\n",
       " 'siddhimangla',\n",
       " 'kartikrana17',\n",
       " '_rahulvardhan_',\n",
       " 'keep_calm_and_be_motivated',\n",
       " 'surajbaba256',\n",
       " 'sheetal.juneja',\n",
       " 'charcha_delhibelly',\n",
       " 'raj_dil_pe_karo',\n",
       " 'sibalpalak',\n",
       " 'thefoodstalkers_',\n",
       " '_vipanshi_walia_',\n",
       " 'vai_virgo',\n",
       " 'ishita_926',\n",
       " 'karanveersingh314',\n",
       " 'gauranvisingh',\n",
       " 'nikunj.jaiiinnn',\n",
       " 'dhirusoni1',\n",
       " 'aatulkrale',\n",
       " 'im_iyerish',\n",
       " 'kjug12',\n",
       " 'shaik_spear92',\n",
       " 'inescapable_darkness',\n",
       " 'sunidhiigupta',\n",
       " 'babita_rajora24',\n",
       " '_puneet__',\n",
       " '_bhumika_shah',\n",
       " 'priyankhandelwal',\n",
       " '_jahanvi_',\n",
       " 'priyawadhwa96',\n",
       " 'dr.vaishaliiiiiiii_',\n",
       " 'rohanmasihh',\n",
       " 'insta.4445',\n",
       " 'picsaindex',\n",
       " 'mittal.priyansh',\n",
       " 'preeti_singh_chauhan_ppsingh',\n",
       " 'roopam.tiwari',\n",
       " 'rooh_e_noor',\n",
       " 'aashu20004',\n",
       " 'reena.gupta.1974',\n",
       " 'shwetasukralia',\n",
       " 'ashmeet6767',\n",
       " 'alen_saji_134',\n",
       " 'akki_verma10',\n",
       " 'tishyasingh2000',\n",
       " 'sonali07sharma',\n",
       " 'richasharma8586',\n",
       " 'ravi.shejwal',\n",
       " 'ishivugupta',\n",
       " 'ishita_._._jain',\n",
       " 'kalindi_sagar',\n",
       " 'shashwat.singh12',\n",
       " 'heena0112',\n",
       " 'jannat_fan_girl07',\n",
       " 'divyanshiii__',\n",
       " 'sentilong_imchen',\n",
       " 'gunjan.geet10',\n",
       " 'm2travelers',\n",
       " 'oendrila_31',\n",
       " '__shubham.singh__',\n",
       " 'gurpreetlalana',\n",
       " 'plushblack_',\n",
       " 'dhruvsoni_97',\n",
       " 'the_dishahara_nouko',\n",
       " 'aman.devil',\n",
       " 'maheshwari_adityaa',\n",
       " 'singham4422',\n",
       " 'uncanny_life_',\n",
       " 'gurditsingh.16',\n",
       " 'psychologist.dr.munia',\n",
       " 'shuubhaangii',\n",
       " 'rude_dude031',\n",
       " 'rahul202049',\n",
       " 'kolkatapetuk',\n",
       " 'prostoy_chelovek92',\n",
       " 'bholabhupender',\n",
       " 'err.istotle',\n",
       " 'ajita.tiwari2411',\n",
       " 'harshitsingla16',\n",
       " 'avinash.pratap.1656',\n",
       " 'letstravellato',\n",
       " 'theolivegirl_',\n",
       " 'dhritykakati',\n",
       " 'akshpreet_kaur271',\n",
       " 'karan210591',\n",
       " 'uddishkharbanda',\n",
       " 'jasleen8',\n",
       " 'have_a_nice_day1976',\n",
       " 'thehangrykoala',\n",
       " 'foodieimmigrant',\n",
       " 'archna9720',\n",
       " 'nitin_sharma22',\n",
       " 'kanupriya_tomar',\n",
       " 'vidhidixit1717',\n",
       " 'bhatti_ajay72',\n",
       " 'hancybad',\n",
       " 'thesavourygrub',\n",
       " 'nadeemansariking',\n",
       " 'iam_sladewilson']"
      ]
     },
     "execution_count": 32,
     "metadata": {},
     "output_type": "execute_result"
    }
   ],
   "source": [
    "while True:\n",
    "    try:\n",
    "        sodelhi=[]\n",
    "        count=0\n",
    "        while True:\n",
    "            elements=driver.find_elements_by_xpath('//a[contains(@class, \"notranslate\")]')\n",
    "            if len(elements)<500:\n",
    "                waiter=WebDriverWait(driver, 10).until(EC.presence_of_element_located((By.XPATH, '//ul[contains(@class, \"jSC57\")]')))\n",
    "                driver.execute_script('arguments[0].scrollIntoView(0, 100);', driver.find_element_by_xpath('//ul[contains(@class, \"jSC57\")]'))\n",
    "                time.sleep(0.8)\n",
    "            i=elements[count]\n",
    "            sodelhi.append(i.get_attribute('innerHTML'))\n",
    "            if len(sodelhi)>=500:\n",
    "                break\n",
    "            count+=1\n",
    "        break\n",
    "    except StaleElementReferenceException:\n",
    "        continue\n",
    "sodelhi\n"
   ]
  },
  {
   "cell_type": "code",
   "execution_count": null,
   "metadata": {},
   "outputs": [],
   "source": [
    "driver.find_element_by_class_name('glyphsSpriteX__outline__24__grey_9').click()\n",
    "waiter=WebDriverWait(driver, 10).until(EC.presence_of_element_located((By.CLASS_NAME, \"TqC_a\")))"
   ]
  },
  {
   "cell_type": "markdown",
   "metadata": {},
   "source": [
    "<h2>Extracting the usernames of the first 500 followers of 'foodtalkindia' :</h2>"
   ]
  },
  {
   "cell_type": "code",
   "execution_count": null,
   "metadata": {},
   "outputs": [],
   "source": [
    "driver.find_element_by_class_name('TqC_a').click()\n",
    "\n",
    "search_box=driver.find_element_by_class_name('XTCLo')\n",
    "search_box.send_keys('foodtalkindia')\n",
    "waiter=WebDriverWait(driver, 10).until(EC.presence_of_element_located((By.CLASS_NAME, \"yCE8d\")))"
   ]
  },
  {
   "cell_type": "code",
   "execution_count": null,
   "metadata": {},
   "outputs": [],
   "source": [
    "driver.find_element_by_class_name('yCE8d').click()\n",
    "waiter=WebDriverWait(driver, 10).until(EC.element_to_be_clickable((By.XPATH, '//a[@class=\"-nal3 \"]/span[@class=\"g47SY \"]')))\n",
    "time.sleep(2)"
   ]
  },
  {
   "cell_type": "code",
   "execution_count": null,
   "metadata": {},
   "outputs": [],
   "source": [
    "driver.find_element_by_xpath('//a[@class=\"-nal3 \"]/span[@class=\"g47SY \"]').click()\n",
    "waiter=WebDriverWait(driver, 10).until(EC.presence_of_element_located((By.XPATH, '//a[contains(@class, \"notranslate\")]')))"
   ]
  },
  {
   "cell_type": "code",
   "execution_count": null,
   "metadata": {},
   "outputs": [],
   "source": [
    "while True:\n",
    "    try:\n",
    "        foodtalkindia=[]\n",
    "        count=0\n",
    "        while True:\n",
    "            elements=driver.find_elements_by_xpath('//a[contains(@class, \"notranslate\")]')\n",
    "            if len(elements)<500:\n",
    "                waiter=WebDriverWait(driver, 10).until(EC.presence_of_element_located((By.XPATH, '//ul[contains(@class, \"jSC57\")]')))\n",
    "                driver.execute_script('arguments[0].scrollIntoView(0, 100);', driver.find_element_by_xpath('//ul[contains(@class, \"jSC57\")]'))\n",
    "                time.sleep(0.8)\n",
    "            i=elements[count]\n",
    "            foodtalkindia.append(i.get_attribute('innerHTML'))\n",
    "            if len(foodtalkindia)>=500:\n",
    "                break\n",
    "            count+=1\n",
    "        break\n",
    "    except StaleElementReferenceException:\n",
    "        continue\n",
    "waiter=WebDriverWait(driver, 10).until(EC.presence_of_element_located((By.CLASS_NAME, \"glyphsSpriteX__outline__24__grey_9\")))\n",
    "foodtalkindia"
   ]
  },
  {
   "cell_type": "markdown",
   "metadata": {},
   "source": [
    "<h2>Printing all the followers of \"foodtalkindia\" that user is following but those who don't follow the user:</h2>\n",
    "<br>I did this by extracting and saving a list of all the user's followers(myfollowers) and those who are followed by the user(following). and getting the answer by using \"(followers_of_foodtalkindia_that_user_is_following)-(user's_followers)\""
   ]
  },
  {
   "cell_type": "code",
   "execution_count": null,
   "metadata": {},
   "outputs": [],
   "source": [
    "driver.find_element_by_class_name('glyphsSpriteX__outline__24__grey_9').click()\n",
    "waiter=WebDriverWait(driver, 10).until(EC.presence_of_element_located((By.CLASS_NAME, \"glyphsSpriteUser__outline__24__grey_9\")))\n",
    "time.sleep(3)"
   ]
  },
  {
   "cell_type": "code",
   "execution_count": null,
   "metadata": {},
   "outputs": [],
   "source": [
    "driver.find_element_by_class_name('glyphsSpriteUser__outline__24__grey_9').click()\n",
    "waiter=WebDriverWait(driver, 10).until(EC.presence_of_element_located((By.XPATH, '//a[@class=\"-nal3 \"]/span')))\n",
    "time.sleep(3)"
   ]
  },
  {
   "cell_type": "code",
   "execution_count": null,
   "metadata": {},
   "outputs": [],
   "source": [
    "total_followers=int(driver.find_element_by_xpath('//a[@class=\"-nal3 \"]/span[@class=\"g47SY \"]').get_attribute('innerHTML'))\n",
    "driver.find_element_by_xpath('//a[@class=\"-nal3 \"]/span[@class=\"g47SY \"]').click()\n",
    "waiter=WebDriverWait(driver, 10).until(EC.presence_of_element_located((By.XPATH, '//a[contains(@class, \"notranslate\")]')))"
   ]
  },
  {
   "cell_type": "code",
   "execution_count": null,
   "metadata": {
    "scrolled": true
   },
   "outputs": [],
   "source": [
    "while True:\n",
    "    try:\n",
    "        myfollowers=[]\n",
    "        count=0\n",
    "        while True:\n",
    "            elements=driver.find_elements_by_xpath('//a[contains(@class, \"notranslate\")]')\n",
    "            if len(elements)<total_followers:\n",
    "                waiter=WebDriverWait(driver, 10).until(EC.presence_of_element_located((By.XPATH, '//ul[contains(@class, \"jSC57\")]')))\n",
    "                driver.execute_script('arguments[0].scrollIntoView(0, 100);', driver.find_element_by_xpath('//ul[contains(@class, \"jSC57\")]'))\n",
    "                time.sleep(0.8)\n",
    "            i=elements[count]\n",
    "            myfollowers.append(i.get_attribute('innerHTML'))\n",
    "            if len(myfollowers)==total_followers:\n",
    "                break\n",
    "            count+=1\n",
    "        break\n",
    "    except StaleElementReferenceException:\n",
    "        continue\n",
    "waiter=WebDriverWait(driver, 10).until(EC.presence_of_element_located((By.CLASS_NAME, 'glyphsSpriteX__outline__24__grey_9')))"
   ]
  },
  {
   "cell_type": "code",
   "execution_count": null,
   "metadata": {},
   "outputs": [],
   "source": [
    "driver.find_element_by_class_name('glyphsSpriteX__outline__24__grey_9').click()\n",
    "waiter=WebDriverWait(driver, 10).until(EC.presence_of_element_located((By.XPATH, '//a[@class=\"-nal3 \"]/span')))"
   ]
  },
  {
   "cell_type": "code",
   "execution_count": null,
   "metadata": {},
   "outputs": [],
   "source": [
    "total_following=int(driver.find_elements_by_xpath('//a[@class=\"-nal3 \"]/span')[1].get_attribute('innerHTML'))\n",
    "driver.find_elements_by_xpath('//a[@class=\"-nal3 \"]/span[@class=\"g47SY \"]')[1].click()\n",
    "waiter=WebDriverWait(driver, 10).until(EC.presence_of_element_located((By.XPATH, '//a[contains(@class, \"notranslate\")]')))"
   ]
  },
  {
   "cell_type": "code",
   "execution_count": null,
   "metadata": {},
   "outputs": [],
   "source": [
    "while True:\n",
    "    try:\n",
    "        following=[]\n",
    "        count=0\n",
    "        while True:\n",
    "            elements=driver.find_elements_by_xpath('//a[contains(@class, \"notranslate\")]')\n",
    "            if len(elements)<total_following:\n",
    "                waiter=WebDriverWait(driver, 10).until(EC.presence_of_element_located((By.XPATH, '//ul[contains(@class, \"jSC57\")]')))\n",
    "                driver.execute_script('arguments[0].scrollIntoView(0, 100);', driver.find_element_by_xpath('//ul[contains(@class, \"jSC57\")]'))\n",
    "                time.sleep(0.8)\n",
    "            i=elements[count]\n",
    "            following.append(i.get_attribute('innerHTML'))\n",
    "            if len(following)==total_following:\n",
    "                break\n",
    "            count+=1\n",
    "        break\n",
    "    except StaleElementReferenceException:\n",
    "        continue"
   ]
  },
  {
   "cell_type": "code",
   "execution_count": null,
   "metadata": {},
   "outputs": [],
   "source": [
    "following=set(following)\n",
    "myfollowers=set(myfollowers)\n",
    "foodtalkindia=set(foodtalkindia)\n",
    "followers_of_foodtalkindia_that_i_am_following= following.intersection(foodtalkindia)\n",
    "print('Given below is a set of all the followers of “foodtalkindia” that I am following but those who don’t follow me.')\n",
    "if len(followers_of_foodtalkindia_that_i_am_following-myfollowers)==0:\n",
    "    print(\"--->No such followers\")\n",
    "for i in followers_of_foodtalkindia_that_i_am_following-myfollowers:\n",
    "    print(i)\n",
    "waiter=WebDriverWait(driver, 10).until(EC.presence_of_element_located((By.CLASS_NAME, \"glyphsSpriteX__outline__24__grey_9\")))"
   ]
  },
  {
   "cell_type": "markdown",
   "metadata": {},
   "source": [
    "<h2>Visiting Coding Ninjas and checking their story with given conditions:</h2>"
   ]
  },
  {
   "cell_type": "code",
   "execution_count": null,
   "metadata": {},
   "outputs": [],
   "source": [
    "driver.find_element_by_class_name('glyphsSpriteX__outline__24__grey_9').click()\n",
    "waiter=WebDriverWait(driver, 10).until(EC.presence_of_element_located((By.CLASS_NAME, \"TqC_a\")))"
   ]
  },
  {
   "cell_type": "code",
   "execution_count": null,
   "metadata": {},
   "outputs": [],
   "source": [
    "driver.find_element_by_class_name('TqC_a').click()\n",
    "\n",
    "search_box=driver.find_element_by_class_name('XTCLo')\n",
    "search_box.send_keys('coding.ninjas')\n",
    "waiter=WebDriverWait(driver, 10).until(EC.presence_of_element_located((By.CLASS_NAME, \"yCE8d\")))"
   ]
  },
  {
   "cell_type": "code",
   "execution_count": null,
   "metadata": {},
   "outputs": [],
   "source": [
    "driver.find_element_by_class_name('yCE8d').click()\n",
    "time.sleep(3)"
   ]
  },
  {
   "cell_type": "code",
   "execution_count": null,
   "metadata": {},
   "outputs": [],
   "source": [
    "try:\n",
    "    if int(driver.find_element_by_xpath('//div[contains(@class, \"h5uC0\")]/canvas').get_attribute('height'))==168:\n",
    "        print('You have not seen the story yet! The story will be shown to you now. check out the driver window')\n",
    "        driver.find_element_by_xpath('//div[contains(@class, \"h5uC0\")]').click()\n",
    "    elif int(driver.find_element_by_xpath('//div[contains(@class, \"h5uC0\")]/canvas').get_attribute('height'))==166:\n",
    "        print('You have already seen the story!')\n",
    "except NoSuchElementException:\n",
    "    print('The user has no story!')"
   ]
  }
 ],
 "metadata": {
  "kernelspec": {
   "display_name": "Python 3",
   "language": "python",
   "name": "python3"
  },
  "language_info": {
   "codemirror_mode": {
    "name": "ipython",
    "version": 3
   },
   "file_extension": ".py",
   "mimetype": "text/x-python",
   "name": "python",
   "nbconvert_exporter": "python",
   "pygments_lexer": "ipython3",
   "version": "3.13.0"
  }
 },
 "nbformat": 4,
 "nbformat_minor": 2
}
