{
 "cells": [
  {
   "metadata": {},
   "cell_type": "markdown",
   "source": [
    "### CLasses in Python\n",
    "#### Classes are a way to bundle data and functionality together. Creating a new class creates a new type of object, allowing new instances of that type to be made. Each class instance can have attributes attached to it for maintaining its state. Class instances can also have methods (defined by its class) for modifying its state."
   ],
   "id": "8a45ce4861a307d9"
  },
  {
   "metadata": {
    "ExecuteTime": {
     "end_time": "2024-06-07T07:56:44.950295Z",
     "start_time": "2024-06-07T07:56:44.945550Z"
    }
   },
   "cell_type": "code",
   "source": [
    "class Student:\n",
    "    # __init__ function is called when an object is created,\n",
    "    # and it will initialize the object's attributes and always be called \n",
    "    \n",
    "    def __init__(self):       # it also acts as a constructor for the class\n",
    "        self.name = \"Anshul\"  # Instance Variable \n",
    "\n",
    "    \n",
    "    "
   ],
   "id": "7d96ff5fb235d5d5",
   "outputs": [],
   "execution_count": 5
  },
  {
   "metadata": {
    "ExecuteTime": {
     "end_time": "2024-06-07T07:56:47.292280Z",
     "start_time": "2024-06-07T07:56:47.281247Z"
    }
   },
   "cell_type": "code",
   "source": [
    "s1 = Student()  # creating an object of class Student\n",
    "print(s1.name)  # Accessing class variable using object"
   ],
   "id": "6df693d5e8da057",
   "outputs": [
    {
     "name": "stdout",
     "output_type": "stream",
     "text": [
      "Anshul\n"
     ]
    }
   ],
   "execution_count": 6
  },
  {
   "metadata": {},
   "cell_type": "markdown",
   "source": "##### Class with Multiple Attributes and parameters in the constructor\n",
   "id": "4e7d13c826dd94aa"
  },
  {
   "metadata": {
    "ExecuteTime": {
     "end_time": "2024-06-07T08:10:11.721571Z",
     "start_time": "2024-06-07T08:10:11.710459Z"
    }
   },
   "cell_type": "code",
   "source": [
    "class Car:\n",
    "    def __init__(self, makes, model, year):\n",
    "        self.makes = makes\n",
    "        self.model = model\n",
    "        self.year = year\n",
    "        print(\"Car class is created\")\n",
    "        print(\"Make: \", makes)\n",
    "        print(\"Model: \", model)\n",
    "        print(\"Year: \", year)\n",
    "    print(\"End of Car class\")\n",
    "    "
   ],
   "id": "33a849dc29dbfce4",
   "outputs": [
    {
     "name": "stdout",
     "output_type": "stream",
     "text": [
      "End of Car class\n"
     ]
    }
   ],
   "execution_count": 1
  },
  {
   "metadata": {
    "ExecuteTime": {
     "end_time": "2024-06-07T08:10:28.636740Z",
     "start_time": "2024-06-07T08:10:28.631876Z"
    }
   },
   "cell_type": "code",
   "source": [
    "car1  = Car(\"Honda\", \"ZXI\", 2004)\n",
    "print(car1.makes)\n"
   ],
   "id": "67351aeca08aa0f0",
   "outputs": [
    {
     "name": "stdout",
     "output_type": "stream",
     "text": [
      "Car class is created\n",
      "Make:  Honda\n",
      "Model:  ZXI\n",
      "Year:  2004\n",
      "Honda\n"
     ]
    }
   ],
   "execution_count": 3
  },
  {
   "metadata": {},
   "cell_type": "markdown",
   "source": [
    "#### Class Attributes and Object Attributes\n",
    "##### Class Attributes are shared by all instances of the class\n",
    "##### Object Attributes are owned by each individual object/instance of the class"
   ],
   "id": "13d982071e0ef523"
  },
  {
   "metadata": {},
   "cell_type": "markdown",
   "source": "##### Methods in Class",
   "id": "c7cf10e54087fed1"
  },
  {
   "metadata": {
    "ExecuteTime": {
     "end_time": "2024-06-07T08:15:08.905546Z",
     "start_time": "2024-06-07T08:15:08.900385Z"
    }
   },
   "cell_type": "code",
   "source": [
    "class Student:\n",
    "    def __init__(self, name, age):\n",
    "        self.name = name\n",
    "        self.age = age\n",
    "    def display(self):\n",
    "        print(\"Name: \", self.name)\n",
    "        print(\"Age: \", self.age)"
   ],
   "id": "1282091412a68f5e",
   "outputs": [],
   "execution_count": 4
  },
  {
   "metadata": {
    "ExecuteTime": {
     "end_time": "2024-06-07T08:15:29.902608Z",
     "start_time": "2024-06-07T08:15:29.898653Z"
    }
   },
   "cell_type": "code",
   "source": [
    "student1 = Student(\"Anshul\", 30)\n",
    "student1.display()"
   ],
   "id": "e581f76ca373bb18",
   "outputs": [
    {
     "name": "stdout",
     "output_type": "stream",
     "text": [
      "Name:  Anshul\n",
      "Age:  30\n"
     ]
    }
   ],
   "execution_count": 6
  },
  {
   "metadata": {},
   "cell_type": "markdown",
   "source": "##### Account Program to demonstrate class and object\n",
   "id": "6a8b9bdd90290a5a"
  },
  {
   "metadata": {
    "ExecuteTime": {
     "end_time": "2024-06-07T11:08:26.126403Z",
     "start_time": "2024-06-07T11:08:26.114170Z"
    }
   },
   "cell_type": "code",
   "source": [
    "class Account:\n",
    "    def __init__(self, account_no, money):\n",
    "        self.account_no = account_no\n",
    "        self.money = money\n",
    "    \n",
    "    def display(self):\n",
    "        print(\"Account number: \", self.account_no)\n",
    "        print(\"Balance: \", self.money )\n",
    "        \n",
    "    def addMoney(self, pay):\n",
    "        self.money += pay\n",
    "        print(\"Money added: \", pay)\n",
    "        print(\"Updated Balance: \", self.money)\n",
    "        \n",
    "    def withdraw(self, pay):\n",
    "        self.money -= pay\n",
    "        print(\"Money withdrawn: \", pay)\n",
    "        print(\"Updated Balance: \", self.money)\n",
    "        "
   ],
   "id": "57e489d14c1ae644",
   "outputs": [],
   "execution_count": 1
  },
  {
   "metadata": {
    "ExecuteTime": {
     "end_time": "2024-06-07T11:10:24.273825Z",
     "start_time": "2024-06-07T11:10:14.943421Z"
    }
   },
   "cell_type": "code",
   "source": [
    "money  = int(input(\"Enter the amount\"))\n",
    "account_no = int(input(\"Enter the account number\"))\n",
    "\n",
    "account1 = Account(account_no, money)\n",
    "account1.display()\n",
    "account1.addMoney(1000)"
   ],
   "id": "89abbd2f5ae4c33f",
   "outputs": [
    {
     "name": "stdout",
     "output_type": "stream",
     "text": [
      "Account number:  1234\n",
      "Balance:  1000\n",
      "Money added:  1000\n"
     ]
    }
   ],
   "execution_count": 5
  }
 ],
 "metadata": {
  "kernelspec": {
   "display_name": "Python 3",
   "language": "python",
   "name": "python3"
  },
  "language_info": {
   "codemirror_mode": {
    "name": "ipython",
    "version": 2
   },
   "file_extension": ".py",
   "mimetype": "text/x-python",
   "name": "python",
   "nbconvert_exporter": "python",
   "pygments_lexer": "ipython2",
   "version": "2.7.6"
  }
 },
 "nbformat": 4,
 "nbformat_minor": 5
}
