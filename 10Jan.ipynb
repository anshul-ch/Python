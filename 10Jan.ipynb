{
 "cells": [
  {
   "cell_type": "markdown",
   "source": [
    "## Pattern\n",
    "\n",
    "#### Pattern are created in horizontal way. First we create a pattern in horizontal way and then we create a pattern in vertical way. ( i for horizontal and j for vertical)"
   ],
   "metadata": {
    "collapsed": false
   },
   "id": "b392c33cab376947"
  },
  {
   "cell_type": "markdown",
   "source": [
    "1. Basic Square Pattern"
   ],
   "metadata": {
    "collapsed": false
   },
   "id": "4eaefed7b9270b1a"
  },
  {
   "cell_type": "code",
   "outputs": [
    {
     "name": "stdout",
     "output_type": "stream",
     "text": [
      "* * * * * \n",
      "* * * * * \n",
      "* * * * * \n",
      "* * * * * \n",
      "* * * * * \n"
     ]
    }
   ],
   "source": [
    "n = int(input(\"Enter a number: \"))\n",
    "i = 1\n",
    "while i<=n:                                  # for rows \n",
    "    j = 1\n",
    "    while j<=n:                             # for columns\n",
    "        print(\"*\", end=\" \")\n",
    "        j += 1\n",
    "    print()\n",
    "    i += 1\n"
   ],
   "metadata": {
    "collapsed": true,
    "ExecuteTime": {
     "end_time": "2024-01-10T12:47:56.314387721Z",
     "start_time": "2024-01-10T12:47:54.542351244Z"
    }
   },
   "id": "initial_id",
   "execution_count": 2
  },
  {
   "cell_type": "code",
   "outputs": [
    {
     "name": "stdout",
     "output_type": "stream",
     "text": [
      "1 \n",
      "1 2 \n",
      "1 2 3 \n",
      "1 2 3 4 \n",
      "1 2 3 4 5 \n"
     ]
    }
   ],
   "source": [
    "n = int(input())\n",
    "i = 1\n",
    "while i<=n:\n",
    "    j = 1\n",
    "    k = 1\n",
    "    while j<=i:\n",
    "        print(k, end=\" \")\n",
    "        k += 1\n",
    "        j += 1\n",
    "    print()\n",
    "    i += 1\n"
   ],
   "metadata": {
    "collapsed": false,
    "ExecuteTime": {
     "end_time": "2024-01-10T13:11:57.254622655Z",
     "start_time": "2024-01-10T13:11:56.027401934Z"
    }
   },
   "id": "4bfb258f1fba8fdc",
   "execution_count": 5
  },
  {
   "cell_type": "code",
   "outputs": [
    {
     "name": "stdout",
     "output_type": "stream",
     "text": [
      "1 \n",
      "2 3 \n",
      "4 5 6 \n",
      "7 8 9 10 \n",
      "11 12 13 14 15 \n"
     ]
    }
   ],
   "source": [
    "n = int(input())\n",
    "i = 1\n",
    "k = 1\n",
    "while i<=n:\n",
    "    j = 1\n",
    "    while j<=i:\n",
    "        print(k, end=\" \")\n",
    "        k += 1\n",
    "        j += 1\n",
    "    print()\n",
    "    i += 1\n"
   ],
   "metadata": {
    "collapsed": false,
    "ExecuteTime": {
     "end_time": "2024-01-10T13:12:33.159200477Z",
     "start_time": "2024-01-10T13:12:32.044547678Z"
    }
   },
   "id": "45f3a9c62efa081",
   "execution_count": 6
  },
  {
   "cell_type": "code",
   "outputs": [
    {
     "name": "stdout",
     "output_type": "stream",
     "text": [
      "A \n",
      "B C \n",
      "C D E \n",
      "D E F G \n",
      "E F G H I \n"
     ]
    }
   ],
   "source": [
    "# charcter pattern\n",
    "n = int(input())\n",
    "i = 1\n",
    "while i<=n:\n",
    "    j = 1\n",
    "    start_char = chr(ord('A') + i - 1)\n",
    "    while j<=i:\n",
    "        charP = chr(ord(start_char) + j - 1)\n",
    "        print(charP, end=\" \")\n",
    "        j += 1\n",
    "    print()\n",
    "    i += 1"
   ],
   "metadata": {
    "collapsed": false,
    "ExecuteTime": {
     "end_time": "2024-01-10T13:22:05.823792978Z",
     "start_time": "2024-01-10T13:22:04.344483944Z"
    }
   },
   "id": "56f7c6b20ef96bd5",
   "execution_count": 7
  },
  {
   "cell_type": "markdown",
   "source": [],
   "metadata": {
    "collapsed": false
   },
   "id": "c3f6d7d3097ade41"
  },
  {
   "cell_type": "code",
   "outputs": [],
   "source": [
    "     1 \n",
    "    12\n",
    "  123\n",
    "1234"
   ],
   "metadata": {
    "collapsed": false
   },
   "id": "fb9afd9978b90b7d"
  },
  {
   "cell_type": "code",
   "outputs": [],
   "source": [
    "n = int(input())\n",
    "i = 1\n",
    "while i<=n:\n",
    "    spaces = 1\n",
    "    while spaces<=n-i:\n",
    "        print(\" \", end=\" \")\n",
    "        spaces += 1\n",
    "    j = 1\n",
    "    while j<=i:\n",
    "        print(j, end=\" \")\n",
    "        j += 1\n",
    "    print()\n",
    "    i += 1"
   ],
   "metadata": {
    "collapsed": false
   },
   "id": "1026f195d4f5fb40"
  },
  {
   "cell_type": "markdown",
   "source": [],
   "metadata": {
    "collapsed": false
   },
   "id": "f3d0cb786a4177b1"
  },
  {
   "cell_type": "code",
   "outputs": [],
   "source": [
    "      *\n",
    "     ***\n",
    "    *****\n",
    "     ***\n",
    "       *"
   ],
   "metadata": {
    "collapsed": false
   },
   "id": "aeef71721b148057"
  },
  {
   "cell_type": "code",
   "outputs": [],
   "source": [
    "n = int(input())\n",
    "i = 1\n",
    "while i<=n//2 + 1:\n",
    "    spaces = 1\n",
    "    while spaces<=n//2 + 1 - i:\n",
    "        print(\" \", end=\" \")\n",
    "        spaces += 1\n",
    "    j = 1\n",
    "    while j<=2*i - 1:\n",
    "        print(\"*\", end=\" \")\n",
    "        j += 1\n",
    "    print()\n",
    "    i += 1"
   ],
   "metadata": {
    "collapsed": false
   },
   "id": "58dda843ab7585b4"
  }
 ],
 "metadata": {
  "kernelspec": {
   "display_name": "Python 3",
   "language": "python",
   "name": "python3"
  },
  "language_info": {
   "codemirror_mode": {
    "name": "ipython",
    "version": 2
   },
   "file_extension": ".py",
   "mimetype": "text/x-python",
   "name": "python",
   "nbconvert_exporter": "python",
   "pygments_lexer": "ipython2",
   "version": "2.7.6"
  }
 },
 "nbformat": 4,
 "nbformat_minor": 5
}
